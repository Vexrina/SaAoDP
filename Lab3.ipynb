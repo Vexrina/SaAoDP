{
 "cells": [
  {
   "cell_type": "markdown",
   "id": "db4b50f0",
   "metadata": {},
   "source": [
    "# Лабораторная работа №3\n",
    "## Выполнил студент группы Щавлев К.В. БВТ2003"
   ]
  },
  {
   "cell_type": "markdown",
   "id": "annual-symbol",
   "metadata": {},
   "source": [
    "### Оглавление\n",
    "1. [Задание 1](#Задание-№1)\n",
    "2. [Задание 2](#Задание-№2)\n",
    "4. [Вывод](#Вывод)"
   ]
  },
  {
   "cell_type": "markdown",
   "id": "independent-spirit",
   "metadata": {},
   "source": [
    "> Дополнительные модули, использованные при выполнение лабораторной"
   ]
  },
  {
   "cell_type": "code",
   "execution_count": 23,
   "id": "4839be2b",
   "metadata": {},
   "outputs": [],
   "source": [
    "# Необходим при замере скорости выполнения кода\n",
    "from datetime import datetime as t\n",
    "# Нужен для создания словаря в алг. Бойера-Мура\n",
    "from collections import defaultdict\n",
    "\n",
    "#для пятнашек\n",
    "from tabulate import tabulate\n",
    "import time\n",
    "from queue import PriorityQueue"
   ]
  },
  {
   "cell_type": "markdown",
   "id": "inclusive-motorcycle",
   "metadata": {},
   "source": [
    "### Задание №1\n",
    "Реализовать методы поиска подстроки в строке. Добавить возможность ввода строки и подстроки с клавиатуры. Предусмотреть возможность существования пробела. Реализовать возможность выбора опции чувствительности или нечувствительности к регистру. Оценить время работы каждого алгоритма поиска и сравнить его со временем работы стандартной функции поиска, используемой в выбранном языке программирования."
   ]
  },
  {
   "cell_type": "markdown",
   "id": "interracial-communication",
   "metadata": {},
   "source": [
    "#### Алгоритм Кнута-Морриса-Пратта"
   ]
  },
  {
   "cell_type": "code",
   "execution_count": 24,
   "id": "presidential-level",
   "metadata": {},
   "outputs": [
    {
     "data": {
      "text/plain": [
       "[0, 0, 1, 2, 3, 0]"
      ]
     },
     "execution_count": 24,
     "metadata": {},
     "output_type": "execute_result"
    }
   ],
   "source": [
    "def prefix(template):\n",
    "    array = [0]*len(template)\n",
    "    j = 0\n",
    "    i = 1\n",
    "    while i < len(template): \n",
    "        if template[j] == template[i]:\n",
    "            array[i] = j+1 \n",
    "            i += 1\n",
    "            j += 1\n",
    "        else:\n",
    "            if j == 0:\n",
    "                array[i] = 0\n",
    "                i += 1\n",
    "            else:\n",
    "                j = array[j-1]\n",
    "    return array\n",
    "test = 'лилила'\n",
    "prefix (test)\n"
   ]
  },
  {
   "cell_type": "code",
   "execution_count": 25,
   "id": "2bdb8102",
   "metadata": {},
   "outputs": [],
   "source": [
    "def kmp(original,template):\n",
    "    m = len(template)\n",
    "    n = len(original)\n",
    "    p = prefix(template)\n",
    "    i = 0\n",
    "    j = 0\n",
    "    while i < n:\n",
    "        if original[i] == template[j]:\n",
    "            i += 1\n",
    "            j += 1\n",
    "            if j == m:\n",
    "                print(f\"example found, index {i-m}\")\n",
    "                break\n",
    "        else:\n",
    "            if j > 0:\n",
    "                j = p[j-1]\n",
    "            else:\n",
    "                i += 1\n",
    "\n",
    "    if i == n and j != m:\n",
    "        print(\"example not found\")"
   ]
  },
  {
   "cell_type": "markdown",
   "id": "60134698",
   "metadata": {},
   "source": [
    "#### Упрощенный алгоритм Бойера-Мура"
   ]
  },
  {
   "cell_type": "code",
   "execution_count": 26,
   "id": "2866b87b",
   "metadata": {},
   "outputs": [],
   "source": [
    "def go_symb(template):\n",
    "    S = set()\n",
    "    M = len(template)\n",
    "    d = {}\n",
    "\n",
    "    for i in range(M-2, -1, -1):\n",
    "        if template[i] not in S:\n",
    "            d[template[i]] = M-i-1\n",
    "            S.add(t[i])\n",
    "\n",
    "    if template[M-1] not in S:\n",
    "        d[template[M-1]] = M\n",
    "\n",
    "    d['*'] = M\n",
    "\n",
    "    return d"
   ]
  },
  {
   "cell_type": "code",
   "execution_count": 27,
   "id": "respective-reggae",
   "metadata": {},
   "outputs": [],
   "source": [
    "def bm(str,template):\n",
    "    N = len(str)\n",
    "    M = len(template)\n",
    "    d = go_symb(template)\n",
    "    if N >= M:\n",
    "        i = M-1\n",
    "\n",
    "        while(i < N):\n",
    "            k = 0\n",
    "            j = 0\n",
    "            flBreak = False\n",
    "            for j in range(M-1, -1, -1):\n",
    "                if str[i-k] != template[j]:\n",
    "                    if j == M-1:\n",
    "                        off = d[str[i]] if d.get(str[i], False) else d['*']\n",
    "                    else:\n",
    "                        off = d[template[j]]\n",
    "\n",
    "                    i += off\n",
    "                    flBreak = True\n",
    "                    break\n",
    "\n",
    "                k += 1\n",
    "            if not flBreak:\n",
    "                print(f\"exmaple found, index {i-k+1}\")\n",
    "                break\n",
    "        else:\n",
    "            print(\"example not found\")\n",
    "    else:\n",
    "        print(\"example not found\")"
   ]
  },
  {
   "cell_type": "code",
   "execution_count": 28,
   "metadata": {},
   "outputs": [
    {
     "name": "stdout",
     "output_type": "stream",
     "text": [
      "example found, index 17\n",
      "exmaple found, index 17\n"
     ]
    }
   ],
   "source": [
    "a = 'here is a simple example'\n",
    "t = 'example'\n",
    "\n",
    "kmp(a,t)\n",
    "bm(a,t)"
   ]
  },
  {
   "cell_type": "code",
   "execution_count": 29,
   "id": "bebf95f1",
   "metadata": {},
   "outputs": [
    {
     "name": "stdout",
     "output_type": "stream",
     "text": [
      "example found, index 46\n",
      "КНП is 248400\n",
      "exmaple found, index 46\n",
      "БМ is 47200\n",
      "БМ is faster boii!\n"
     ]
    }
   ],
   "source": [
    "a = 'qwertyupopasdnjlkxzqwerewqitpowqqwertyqoitqjoi111qwertyupopasdnjlkxzqwerewqitpowqqwertyqoitqjoi'\n",
    "t = '111'\n",
    "all_search = dict(\n",
    "    КНП = kmp,\n",
    "    БМ = bm,\n",
    ")\n",
    "winner = ''\n",
    "min_time = -1\n",
    "for name,callable in all_search.items():\n",
    "    ITS_TIME_TO_START = time.perf_counter_ns()\n",
    "    callable(a,t)\n",
    "    ITS_TIME_TO_STOP = time.perf_counter_ns()\n",
    "    timeout = ITS_TIME_TO_STOP-ITS_TIME_TO_START\n",
    "    if(min_time == -1 or min_time > timeout):\n",
    "        min_time = timeout\n",
    "        winner = name\n",
    "    print(f\"{name} is {timeout}\")\n",
    "\n",
    "print(f\"{winner} is faster boii!\")"
   ]
  },
  {
   "cell_type": "markdown",
   "id": "hybrid-memorial",
   "metadata": {},
   "source": [
    "### Задание №2\n",
    "Написать программу, определяющую, является ли данное\n",
    "расположение «решаемым», то есть можно ли из него за конечное число\n",
    "шагов перейти к правильному. Если это возможно, то необходимо найти хотя\n",
    "бы одно решение - последовательность движений, после которой числа будут\n",
    "расположены в правильном порядке.\n",
    "#### Входные данные: массив чисел, представляющий собой расстановку в\n",
    "Порядке «слева направо, сверху вниз». Число 0 обозначает пустое поле.\n",
    "Например, массив [1, 2, 3, 4, 5, 6, 7, 8, 9, 10, 11, 12, 13, 14, 15, 0] представляет\n",
    "собой «решенную» позицию элементов.\n",
    "#### Выходные данные: если решения нет, то функция должна вернуть\n",
    "Пустой массив []. Если решение есть, то необходимо представить решение —\n",
    "для каждого шага записывается номер передвигаемого на данном шаге\n",
    "элемента. "
   ]
  },
  {
   "cell_type": "code",
   "execution_count": 30,
   "id": "eleven-generic",
   "metadata": {},
   "outputs": [],
   "source": [
    "N = 4\n",
    "\n",
    "# Функция, определяющая движение пятнашек\n",
    "def moves(position):\n",
    "    blank = position.index(0)\n",
    "    # Возвращаются значения из кортежа с целой частью и остатком\n",
    "    i, j = divmod(blank, N)\n",
    "    # Задаем массив из смещений\n",
    "    offsets = []\n",
    "    # Движение вниз\n",
    "    if i > 0: offsets.append(-N)     \n",
    "    # Движение вверх\n",
    "    if i < N - 1: offsets.append(N)  \n",
    "    # Движение вправо\n",
    "    if j > 0: offsets.append(-1)\n",
    "    # Движение влево\n",
    "    if j < N - 1: offsets.append(1)  \n",
    "    for offset in offsets:\n",
    "        # Заполянем пустую ячейку элементом, который мы двигаем\n",
    "        swap = blank + offset\n",
    "        # Проверяем на то, является ли заменяемая ячейка пустой,\n",
    "        # и в случае, если у нас есть следующий элемент (не конец),\n",
    "        # то выводим ее индекс, а иначе индекс последнего элемента\n",
    "        yield tuple(position[swap] if x==blank else position[blank] if x==swap else position[x] for x in range(N*N))\n"
   ]
  },
  {
   "cell_type": "code",
   "execution_count": 31,
   "id": "f20c8f9c",
   "metadata": {},
   "outputs": [],
   "source": [
    "# Функция, определяющая есть ли у пятнашек конечное решение\n",
    "def parity(permutation):\n",
    "    # Создаем набор из уникальных данных с пройденными ячейками\n",
    "    # и создаем кол-во циклов прохождения по массиву ячеек\n",
    "    seen, cycles = set(), 0\n",
    "    for i in permutation:\n",
    "        # Проверяем на наличие текущей ячейки в нашем наборе при перестановке\n",
    "        # и добавляем его в набор при его отсутствии в нем\n",
    "        if i not in seen:\n",
    "            # Наращиваем счетчик циклов при отсутствии значений в наборе\n",
    "            cycles += 1\n",
    "            while i not in seen:\n",
    "                seen.add(i)\n",
    "                i = permutation[i]\n",
    "    return (cycles + len(permutation)) % 2"
   ]
  },
  {
   "cell_type": "code",
   "execution_count": 32,
   "id": "0fd7cad1",
   "metadata": {},
   "outputs": [],
   "source": [
    "# Класс, определяющий параметры заданного набора\n",
    "class Position:\n",
    "    # Конструктор, принимающий позицию и начальную дистанцию\n",
    "    def __init__(self, position, start_distance):\n",
    "        self.position = position\n",
    "        self.start_distance = start_distance\n",
    "\n",
    "    # Функция, срабатывающая при сравнении (<) объекта с другим объектом\n",
    "    def __lt__(self, other):\n",
    "        return self.start_distance < other.start_distance\n",
    "\n",
    "    # Функция, срабатывающая при использовании объекта как строки\n",
    "    # и создающая пятнашки в виде квадратной матрицы\n",
    "    def __str__(self):\n",
    "        return '\\n'.join((N*'{:3}').format(*[i%(N*N) for i in self.position[i:]]) \n",
    "for i in range(0, N*N, N))"
   ]
  },
  {
   "cell_type": "code",
   "execution_count": 33,
   "metadata": {},
   "outputs": [
    {
     "name": "stdout",
     "output_type": "stream",
     "text": [
      "  1  2  3  4\n",
      "  5  6  7  8\n",
      " 13  9 11 12\n",
      " 10 14 15  0\n",
      "\n",
      "[15, 14, 10, 13, 9, 10, 14, 15]\n"
     ]
    }
   ],
   "source": [
    "SOLVED = (1, 2, 3, 4, 5, 6, 7, 8, 9, 10, 11, 12, 13, 14, 15, 0)\n",
    "start = [1, 2, 3, 4, 5, 6, 7, 8, 13, 9, 11, 12, 10, 14, 15, 0]\n",
    "\n",
    "# Проверяем, можно ли в данной расстановке найти решение. Если нет, то выводим предупреждающее сообщение\n",
    "if parity(start) == 0:\n",
    "    print('Задачу решить нельзя')\n",
    "else:\n",
    "    # Иначе заполняем наш кортеж значниями из данного набора\n",
    "    start = tuple(start)\n",
    "\n",
    "    p = Position(start, 0)\n",
    "\n",
    "    print(p)\n",
    "    print()\n",
    "\n",
    "    # Кладем в очередь с приоритетом первоначальную позицию\n",
    "    candidates = PriorityQueue()\n",
    "    candidates.put(p)\n",
    "\n",
    "    # Кортеж посещенных нами позиций\n",
    "    visited = set([p])\n",
    "    # Словарь из позиции в качестве ключа, значение которого в дальнейшем\n",
    "    # будем заполнять теми ячейками, которые стоит переместить для получения решения\n",
    "    came_from = {p.position: None}\n",
    "\n",
    "    while p.position != SOLVED:\n",
    "        # Извлекаем из очереди позицию с наименьшим приоритетом\n",
    "        p = candidates.get()\n",
    "        # Кладем в очередь все соседние позиции. Повторяем, пока не вытащим конечную позицию из очереди\n",
    "        for k in moves(p.position):\n",
    "            if k not in visited:\n",
    "                candidates.put(Position(k, p.start_distance + 1))\n",
    "                came_from[k] = p\n",
    "                visited.add(k)\n",
    "\n",
    "    # Последовательное решение пятнашек (путь)\n",
    "    path = []\n",
    "    # Сохраняем конечную позицию\n",
    "    prev = p\n",
    "    # Идем в обратном порядке и запоминаем очередность хода в path\n",
    "    while p.position != start:\n",
    "        # Запоминаем, откуда ход\n",
    "        p = came_from[p.position]\n",
    "        number = p.position[prev.position.index(0)]\n",
    "        path.append(number)\n",
    "        prev = p\n",
    "    path.reverse()\n",
    "\n",
    "    print(path)"
   ]
  },
  {
   "cell_type": "markdown",
   "id": "arbitrary-amazon",
   "metadata": {},
   "source": [
    "### Вывод"
   ]
  },
  {
   "cell_type": "markdown",
   "id": "71bc58bf",
   "metadata": {},
   "source": [
    "Благодаря данной лабораторной работе, научился реализовывать алгоритмы поиска подстроки с помощью КМП и БМХ"
   ]
  }
 ],
 "metadata": {
  "kernelspec": {
   "display_name": "Python 3 (ipykernel)",
   "language": "python",
   "name": "python3"
  },
  "language_info": {
   "codemirror_mode": {
    "name": "ipython",
    "version": 3
   },
   "file_extension": ".py",
   "mimetype": "text/x-python",
   "name": "python",
   "nbconvert_exporter": "python",
   "pygments_lexer": "ipython3",
   "version": "3.10.4"
  }
 },
 "nbformat": 4,
 "nbformat_minor": 5
}

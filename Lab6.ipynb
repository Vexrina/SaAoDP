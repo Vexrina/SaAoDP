{
 "cells": [
  {
   "cell_type": "markdown",
   "metadata": {
    "id": "0z3KlfKDn4_K"
   },
   "source": [
    "# Лабораторная работа 6. \n",
    "# Сетевые алгоритмы. Динамические алгоритмы поиска путей.\n"
   ]
  },
  {
   "cell_type": "markdown",
   "metadata": {
    "id": "96Gi_LEvmSVH"
   },
   "source": [
    "## Выполнил студент группы ФИО ГРУППА\n",
    "***"
   ]
  },
  {
   "cell_type": "markdown",
   "metadata": {
    "id": "GjdIp8aToKIe"
   },
   "source": [
    "### Задание\n",
    "\n",
    "1.  Реализовать алгоритм поиска кратчайшего расстояния между двумя вершинами ориентированного взвешенного графа в соответствии с вариантом. \n",
    "\n",
    "2.  Предусмотреть задание графа в виде матрицы смежности/инцидентности, читаемой из файла, либо графически с помощью пользовательского интерфейса. \n",
    "\n",
    "3.  Разработать графический интерфейс пользователя с визуализацией графа и отображением кратчайшего расстояния между задаваемыми пользователем вершинами.\n",
    "\n",
    "4. По результатам работы проанализировать временную сложность работы заданного алгоритма в зависимости от числа узлов и ребер графа.\n",
    "Данные представить в виде таблицы.\n",
    "\n"
   ]
  },
  {
   "cell_type": "markdown",
   "metadata": {
    "id": "LhhUXrAmotIA"
   },
   "source": [
    "### Алгоритмы:\n",
    "\n",
    "Алгоритм Флойда-Уоршелла| Алгоритм Дейкстры | Алгоритм Беллмана-Форда | Алгоритм Джонсона| Алгоритм Левита | Алгоритм Йена\n",
    "\n"
   ]
  },
  {
   "cell_type": "markdown",
   "metadata": {
    "id": "Wggfn8l7nG72"
   },
   "source": [
    "### Выполнение:"
   ]
  },
  {
   "cell_type": "code",
   "execution_count": 240,
   "metadata": {
    "id": "681a95mZnOSa"
   },
   "outputs": [],
   "source": [
    "import itertools\n",
    "import networkx as nx\n",
    "import numpy.random as rnd\n",
    "import matplotlib.pyplot as plt\n",
    "import math\n",
    "from queue import PriorityQueue\n",
    "import copy\n"
   ]
  },
  {
   "cell_type": "markdown",
   "metadata": {},
   "source": [
    "### Класс для графа"
   ]
  },
  {
   "cell_type": "code",
   "execution_count": 241,
   "metadata": {},
   "outputs": [],
   "source": [
    "class Graph:\n",
    "\n",
    "    def __init__(self, graph_dict=dict()) -> None:\n",
    "        self._graph_dict = graph_dict\n",
    "        self.Visual = nx.Graph()\n",
    "        self.mtx = None\n",
    "\n",
    "    def add_vertex(self, vertex):\n",
    "        if vertex not in self._graph_dict:\n",
    "            self._graph_dict[vertex] = set()\n",
    "            self.Visual.add_node(vertex)\n",
    "\n",
    "    def remove_edge(self, edge: tuple):#только для Йена\n",
    "        vertex1, vertex2 = tuple(edge)\n",
    "        for x, y in [(vertex1, vertex2), (vertex2, vertex1)]:\n",
    "            if x in self._graph_dict:\n",
    "                for connection in self._graph_dict[x]:\n",
    "                    _vertex, _weight = connection\n",
    "                    if _vertex == y:\n",
    "                        self._graph_dict[x].remove(connection)\n",
    "                        break\n",
    "\n",
    "    def add_edge(self, edge: tuple()):\n",
    "        vertex1, vertex2, weight = tuple(edge)\n",
    "        for x, y in [(vertex1, vertex2), (vertex2, vertex1)]:\n",
    "            if x in self._graph_dict:\n",
    "                self._graph_dict[x].add((y, weight))\n",
    "            else:\n",
    "                self._graph_dict[x] = {(y, weight)}\n",
    "        self.Visual.add_edge(vertex1, vertex2)\n",
    "        self.Visual[vertex1][vertex2]['weight']=weight\n",
    "\n",
    "    def remove_vertex(self, vertex: str):#Только для Йена\n",
    "        self._graph_dict.pop(vertex, None)\n",
    "\n",
    "        for key, val in self._graph_dict.items():\n",
    "            for connection in val:\n",
    "                _vertex, _weight = connection\n",
    "\n",
    "                if vertex == _vertex:\n",
    "                    self._graph_dict[key].remove(connection)\n",
    "                    break\n",
    "\n",
    "    def neighbors(self, vertex):\n",
    "        return self._graph_dict[vertex]\n",
    "    \n",
    "    def Visualize(self):\n",
    "        nx.draw_circular(self.Visual,\n",
    "         node_color='red',\n",
    "         node_size=1000,\n",
    "         with_labels=True)\n",
    "    \n",
    "    def SaveMTX(self, mtx):\n",
    "        self.mtx = mtx\n",
    "\n",
    "    def ShowMTX(self):\n",
    "        for i in range(len(self.mtx)):\n",
    "            print(self.mtx[i])\n",
    "    \n",
    "    def GetMTX(self):\n",
    "        return self.mtx\n",
    "    \n",
    "    def GetNumberOfVertex(self):\n",
    "        return len(self.mtx)"
   ]
  },
  {
   "cell_type": "markdown",
   "metadata": {},
   "source": [
    "### Создание графа"
   ]
  },
  {
   "cell_type": "code",
   "execution_count": 242,
   "metadata": {},
   "outputs": [],
   "source": [
    "graph = Graph()\n",
    "\n",
    "# graph.add_vertex(\"a\")  # 0\n",
    "# graph.add_vertex(\"b\")  # 1\n",
    "# graph.add_vertex(\"c\")  # 2\n",
    "# graph.add_vertex(\"d\")  # 3\n",
    "# graph.add_vertex(\"e\")  # 4\n",
    "# graph.add_vertex(\"f\")  # 5\n",
    "# graph.add_vertex(\"g\")  # 6\n",
    "# graph.add_vertex(\"h\")  # 7\n",
    "# graph.add_vertex(\"j\")  # 8\n",
    "\n",
    "# graph.add_edge((\"a\", \"b\", 2))\n",
    "# graph.add_edge((\"a\", \"c\", 6))\n",
    "# graph.add_edge((\"a\", \"d\", 8))\n",
    "# graph.add_edge((\"a\", \"g\", 3))\n",
    "\n",
    "# graph.add_edge((\"b\", \"c\", 9))\n",
    "# graph.add_edge((\"b\", \"d\", 3))\n",
    "# graph.add_edge((\"b\", \"f\", 4))\n",
    "# graph.add_edge((\"b\", \"g\", 9))\n",
    "\n",
    "# graph.add_edge((\"c\", \"d\", 7))\n",
    "\n",
    "# graph.add_edge((\"d\", \"e\", 5))\n",
    "# graph.add_edge((\"d\", \"f\", 5))\n",
    "\n",
    "# graph.add_edge((\"e\", \"g\", 8))\n",
    "# graph.add_edge((\"e\", \"h\", 9))\n",
    "\n",
    "# graph.add_edge((\"f\", \"h\", 6))\n",
    "# graph.add_edge((\"f\", \"j\", 4))\n",
    "# graph.add_edge((\"j\", \"h\", 1))"
   ]
  },
  {
   "cell_type": "code",
   "execution_count": 243,
   "metadata": {},
   "outputs": [
    {
     "name": "stdout",
     "output_type": "stream",
     "text": [
      "[0, 2, 6, 8, inf, inf, 3, inf, inf]\n",
      "[2, 0, 9, 3, inf, 4, 9, inf, inf]\n",
      "[6, 9, 0, 7, inf, inf, inf, inf, inf]\n",
      "[8, 3, 7, 0, 5, 5, inf, inf, inf]\n",
      "[inf, inf, inf, 5, 0, inf, 8, 9, inf]\n",
      "[inf, 4, inf, 5, inf, 0, inf, 6, 4]\n",
      "[3, 9, inf, inf, 8, inf, 0, inf, inf]\n",
      "[inf, inf, inf, inf, 9, 6, inf, 0, 1]\n",
      "[inf, inf, inf, inf, inf, 4, inf, 1, 0]\n"
     ]
    },
    {
     "data": {
      "image/png": "[encoded data removed]",
      "text/plain": [
       "<Figure size 432x288 with 1 Axes>"
      ]
     },
     "metadata": {},
     "output_type": "display_data"
    }
   ],
   "source": [
    "alphabet = 'abcdefghijklmnopqrstuvwxyz'\n",
    "def MtxToGraph(mtx, graph:Graph):\n",
    "    for i in range (len(mtx)):\n",
    "        graph.add_vertex(alphabet[i])\n",
    "    for i in range(len(mtx)):\n",
    "        for j in range(len(mtx)):\n",
    "            if i == j:\n",
    "                continue\n",
    "            elif mtx[i][j] == math.inf:\n",
    "                continue\n",
    "            else:\n",
    "                graph.add_edge((alphabet[i],alphabet[j], mtx[i][j]))\n",
    "\n",
    "    graph.SaveMTX(mtx)\n",
    "Q = math.inf\n",
    "            #a  b  c  d  e  f  g  h  i (1,2,3,4,5,6,7,8,9)\n",
    "testMTX = [ [0, 2, 6, 8, Q, Q, 3, Q, Q],#a\n",
    "            [2, 0, 9, 3, Q, 4, 9, Q, Q],#b\n",
    "            [6, 9, 0, 7, Q, Q, Q, Q, Q],#c\n",
    "            [8, 3, 7, 0, 5, 5, Q, Q, Q],#d\n",
    "            [Q, Q, Q, 5, 0, Q, 8, 9, Q],#e\n",
    "            [Q, 4, Q, 5, Q, 0, Q, 6, 4],#f\n",
    "            [3, 9, Q, Q, 8, Q, 0, Q, Q],#g\n",
    "            [Q, Q, Q, Q, 9, 6, Q, 0, 1],#h\n",
    "            [Q, Q, Q, Q, Q, 4, Q, 1, 0],#i                                                  \n",
    "                                        ]\n",
    "MtxToGraph(testMTX, graph)\n",
    "graph.ShowMTX()\n",
    "graph.Visualize()"
   ]
  },
  {
   "cell_type": "markdown",
   "metadata": {},
   "source": [
    "### Флойд-Уоршилл"
   ]
  },
  {
   "cell_type": "code",
   "execution_count": 244,
   "metadata": {},
   "outputs": [
    {
     "name": "stdout",
     "output_type": "stream",
     "text": [
      "['a', 'b', 'f', 'i', 'h']\n"
     ]
    }
   ],
   "source": [
    "def get_Floyd_path( vertexNumberList, start, end):\n",
    "    global alphabet\n",
    "    path = [alphabet[end]]\n",
    "    while end != start:\n",
    "        letter = alphabet[vertexNumberList[end][start]]\n",
    "        end = vertexNumberList[end][start]\n",
    "        path.insert(0,letter)\n",
    "    return path\n",
    "\n",
    "def Floyd(graph:graph, start, end):\n",
    "    global alphabet\n",
    "    numberOfVertex = graph.GetNumberOfVertex()\n",
    "    MtxOfGraph = graph.GetMTX().copy()\n",
    "    vertexNumberList = [[v for v in range(numberOfVertex)] for u in range(numberOfVertex)]\n",
    "    for k in range(numberOfVertex):\n",
    "        for i in range(numberOfVertex):\n",
    "            for j in range(numberOfVertex):\n",
    "                temp = MtxOfGraph[i][k] + MtxOfGraph[k][j]\n",
    "                if MtxOfGraph[i][j]>temp:\n",
    "                    MtxOfGraph[i][j] = temp\n",
    "                    vertexNumberList[i][j] = k\n",
    "    print(get_Floyd_path( vertexNumberList, start, end))\n",
    "\n",
    "Floyd(graph, 0, 7)"
   ]
  },
  {
   "cell_type": "markdown",
   "metadata": {},
   "source": [
    "### Дейкстра"
   ]
  },
  {
   "cell_type": "code",
   "execution_count": 245,
   "metadata": {},
   "outputs": [],
   "source": [
    "\n",
    "def dijkstra(current_graph: Graph, start_position: str, final_position: str):\n",
    "    variants = PriorityQueue()\n",
    "    variants.put(start_position, 0)\n",
    "    came_from = {}\n",
    "    current_cost = {}\n",
    "    came_from[start_position] = None\n",
    "    current_cost[start_position] = 0\n",
    "    current = None\n",
    "\n",
    "    while not variants.empty():\n",
    "        current = variants.get()\n",
    "\n",
    "        for next in current_graph.neighbors(current[0]):\n",
    "            new_cost = current_cost[current[0]] + next[1]\n",
    "            if next[0] not in current_cost or new_cost < current_cost[next[0]]:\n",
    "                current_cost[next[0]] = new_cost\n",
    "\n",
    "                priority = new_cost\n",
    "                variants.put(next[0], priority)\n",
    "                came_from[next[0]] = current[0]\n",
    "\n",
    "    if final_position in came_from.keys():\n",
    "        return get_dijstra_path(came_from, start_position, final_position), current_cost[final_position]\n",
    "\n",
    "    return None\n",
    "\n",
    "\n",
    "def get_dijstra_path(paths: list(), start, final):\n",
    "    current = final\n",
    "    result = list()\n",
    "    while True:\n",
    "        result.append(current)\n",
    "        if current == start:\n",
    "            return result[::-1]\n",
    "\n",
    "        current = paths[current]\n",
    "\n",
    "\n"
   ]
  },
  {
   "cell_type": "markdown",
   "metadata": {},
   "source": [
    "### Беллмана-Форда"
   ]
  },
  {
   "cell_type": "code",
   "execution_count": null,
   "metadata": {},
   "outputs": [],
   "source": []
  },
  {
   "cell_type": "markdown",
   "metadata": {},
   "source": [
    "### Джонсона"
   ]
  },
  {
   "cell_type": "code",
   "execution_count": null,
   "metadata": {},
   "outputs": [],
   "source": []
  },
  {
   "cell_type": "markdown",
   "metadata": {},
   "source": [
    "### Левита"
   ]
  },
  {
   "cell_type": "code",
   "execution_count": null,
   "metadata": {},
   "outputs": [],
   "source": []
  },
  {
   "cell_type": "markdown",
   "metadata": {},
   "source": [
    "### Йена"
   ]
  },
  {
   "cell_type": "code",
   "execution_count": 246,
   "metadata": {},
   "outputs": [
    {
     "name": "stdout",
     "output_type": "stream",
     "text": [
      "['a', 'b', 'f', 'i', 'h']\n",
      "abfih\n",
      "['a', 'b', 'f', 'i', 'h']\n"
     ]
    }
   ],
   "source": [
    "# ## Ин прогресс\n",
    "\n",
    "# print(dijkstra(graph, \"a\", \"h\"))\n",
    "# roots = {}\n",
    "# lenghts = {}\n",
    "roots, lenghts = dijkstra(graph, 'a', 'h')\n",
    "# print(dijkstra(graph, roots[0][0], roots[0][1]))\n",
    "\n",
    "def get_path_Yen(roots):\n",
    "    path = ''\n",
    "    for i in range(len(roots)):\n",
    "        path = path + roots[i]\n",
    "    return path\n",
    "print(roots)\n",
    "print(get_path_Yen(roots))\n",
    "\n",
    "def get_roots_Yen(path):\n",
    "    root = []\n",
    "    for i in range (len(path)):\n",
    "        root.append(path[i])\n",
    "    return root\n",
    "print(get_roots_Yen(get_path_Yen(roots)))\n"
   ]
  },
  {
   "cell_type": "code",
   "execution_count": 248,
   "metadata": {},
   "outputs": [
    {
     "name": "stdout",
     "output_type": "stream",
     "text": [
      "(['a', 'b', 'f', 'i', 'h'], 11)\n",
      "{'ab': 2}\n",
      "['adfih'] \t [18]\n"
     ]
    }
   ],
   "source": [
    "Yen_Paths = []\n",
    "Yen_Lenghts = []\n",
    "print(dijkstra(graph, 'a','h'))\n",
    "mtxforYen = graph.GetMTX()\n",
    "YensGraph = copy.deepcopy(graph)\n",
    "temp_lenghts = dict()\n",
    "# MtxToGraph(mtxforYen, YensGraph)\n",
    "# print(dijkstra(YensGraph, 'a', 'h'))\n",
    "def Yen(step, gr: Graph, start, finish, roots):\n",
    "    global Yen_Paths, Yen_Lenghts, temp_lenghts\n",
    "    # print(roots)\n",
    "    for steps in range(step+1):\n",
    "        if steps==0:\n",
    "            smthWrong, b = dijkstra(gr, roots[0], roots[1])\n",
    "            temp_path = get_path_Yen(smthWrong)\n",
    "            mydict = dict({temp_path:b})\n",
    "            temp_lenghts.update(mydict)\n",
    "            print(temp_lenghts)\n",
    "            gr.remove_edge((roots[0], roots[1]))\n",
    "            a, b = dijkstra(gr, start, finish)\n",
    "            # print(a)\n",
    "            a = get_path_Yen(a)\n",
    "            Yen_Paths.append(a)\n",
    "            Yen_Lenghts.append(b)\n",
    "            # step+=1\n",
    "            # Yen(step, gr, roots[1], finish, roots)\n",
    "            \n",
    "        elif start==finish:\n",
    "            return\n",
    "        else:\n",
    "            try:\n",
    "                temp_path = ''\n",
    "                for i in range(steps):\n",
    "                    temp_path+=roots[i]\n",
    "                smthWrong, b = dijkstra(gr, roots[steps], roots[steps+1])\n",
    "                b = temp_lenghts[steps-1]+b\n",
    "                temp_lenghts.append(b)\n",
    "                gr.remove_vertex(roots[steps-1])\n",
    "                gr.remove_edge((roots[steps], roots[steps+1]))\n",
    "                a, b = dijkstra(gr, roots[steps], finish)\n",
    "\n",
    "                temp_path = temp_path + get_path_Yen(a)\n",
    "                \n",
    "                print(temp_lenghts)\n",
    "                print(len(temp_lenghts))\n",
    "\n",
    "\n",
    "                b+=temp_lenghts[steps]\n",
    "                Yen_Paths.append(temp_path)\n",
    "                Yen_Lenghts.append(b)\n",
    "                print(temp_path)\n",
    "            except TypeError:\n",
    "                print(f'{step-1} is enough for this start and finish')\n",
    "            # Yen(0, graph, start, finish)\n",
    "\n",
    "Yen(0, YensGraph, 'a', 'h', get_path_Yen(roots))\n",
    "print(Yen_Paths, '\\t', Yen_Lenghts)\n"
   ]
  },
  {
   "cell_type": "code",
   "execution_count": null,
   "metadata": {},
   "outputs": [],
   "source": [
    "\n",
    "# show_roots(roots, lenghts)\n",
    "# # print(roots[0])\n",
    "\n",
    "# def yen_algos(roots:list, step:int, graph: Graph, start, finish):\n",
    "#     CopyOfGraph = Graph()\n",
    "#     CopyOfGraph = graph\n",
    "#     arrayOfLenght = []\n",
    "#     arrayOfLetters = []\n",
    "#     candi, lenOfCandi = [], []\n",
    "#     prev_vertex = None\n",
    "#     str = []\n",
    "#     for i in range(step+1):\n",
    "#         current_vertex = roots[0][i]\n",
    "#         if current_vertex == finish:\n",
    "#             print(f'{i-1} steps is good for that graphs')\n",
    "#             break\n",
    "#         next_vertex = roots[0][i+1]\n",
    "#         a, b = dijkstra(CopyOfGraph, current_vertex, next_vertex)\n",
    "#         arrayOfLenght.append(b)\n",
    "#         if len(arrayOfLenght)>1:\n",
    "#             arrayOfLenght[-1] += arrayOfLenght[-2]\n",
    "#         arrayOfLetters.append(a)\n",
    "#         if i == 0:\n",
    "#             CopyOfGraph.remove_edge((current_vertex, next_vertex))\n",
    "#             a, b = dijkstra(CopyOfGraph, current_vertex, finish)\n",
    "#             candi.append(a)\n",
    "#             lenOfCandi.append(b)\n",
    "#             print()\n",
    "#             print(arrayOfLenght)\n",
    "#             print()\n",
    "#             prev_vertex = current_vertex\n",
    "#             # CopyOfGraph.remove_vertex()\n",
    "#         elif step == len(roots[0]):\n",
    "#             print(\"hehe, boi\")\n",
    "#             break\n",
    "#         else:\n",
    "#             CopyOfGraph.remove_vertex(prev_vertex)\n",
    "#             CopyOfGraph.remove_edge((current_vertex, next_vertex))\n",
    "#             a, b, = dijkstra(CopyOfGraph, current_vertex, finish)\n",
    "#             b = b + arrayOfLenght[-1]\n",
    "#             print('b')\n",
    "#             print(b)\n",
    "#             print('array')\n",
    "#             print(arrayOfLenght)\n",
    "#             print()\n",
    "#             a.insert(0, str)\n",
    "#             str.append(prev_vertex)\n",
    "#             candi.append(a)\n",
    "#             lenOfCandi.append(b)\n",
    "#             prev_vertex = current_vertex\n",
    "#     return candi, lenOfCandi\n",
    "\n",
    "# canditates = []\n",
    "# lenOfCandi = []\n",
    "# canditates, lenOfCandi = yen_algos(roots, 2 , graph, 'a', 'h')\n",
    "# print(canditates)\n",
    "# print(lenOfCandi)\n",
    "\n",
    "\n",
    "# # print(dijkstra(graph, roots[0][0], roots[0][1]))\n",
    "# # print(canditates, candi_len)\n"
   ]
  }
 ],
 "metadata": {
  "colab": {
   "name": "Lab6.ipynb",
   "provenance": []
  },
  "kernelspec": {
   "display_name": "Python 3 (ipykernel)",
   "language": "python",
   "name": "python3"
  },
  "language_info": {
   "codemirror_mode": {
    "name": "ipython",
    "version": 3
   },
   "file_extension": ".py",
   "mimetype": "text/x-python",
   "name": "python",
   "nbconvert_exporter": "python",
   "pygments_lexer": "ipython3",
   "version": "3.10.4"
  }
 },
 "nbformat": 4,
 "nbformat_minor": 1
}

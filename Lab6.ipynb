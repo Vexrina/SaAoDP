{
 "cells": [
  {
   "cell_type": "markdown",
   "metadata": {
    "id": "0z3KlfKDn4_K"
   },
   "source": [
    "# Лабораторная работа 6. \n",
    "# Сетевые алгоритмы. Динамические алгоритмы поиска путей.\n"
   ]
  },
  {
   "cell_type": "markdown",
   "metadata": {
    "id": "96Gi_LEvmSVH"
   },
   "source": [
    "## Выполнил студент группы ФИО ГРУППА\n",
    "***"
   ]
  },
  {
   "cell_type": "markdown",
   "metadata": {
    "id": "GjdIp8aToKIe"
   },
   "source": [
    "### Задание\n",
    "\n",
    "1.  Реализовать алгоритм поиска кратчайшего расстояния между двумя вершинами ориентированного взвешенного графа в соответствии с вариантом. \n",
    "\n",
    "2.  Предусмотреть задание графа в виде матрицы смежности/инцидентности, читаемой из файла, либо графически с помощью пользовательского интерфейса. \n",
    "\n",
    "3.  Разработать графический интерфейс пользователя с визуализацией графа и отображением кратчайшего расстояния между задаваемыми пользователем вершинами.\n",
    "\n",
    "4. По результатам работы проанализировать временную сложность работы заданного алгоритма в зависимости от числа узлов и ребер графа.\n",
    "Данные представить в виде таблицы.\n",
    "\n"
   ]
  },
  {
   "cell_type": "markdown",
   "metadata": {
    "id": "LhhUXrAmotIA"
   },
   "source": [
    "### Алгоритмы:\n",
    "\n",
    "Алгоритм Флойда-Уоршелла| Алгоритм Дейкстры | Алгоритм Беллмана-Форда | Алгоритм Джонсона| Алгоритм Левита | Алгоритм Йена\n",
    "\n"
   ]
  },
  {
   "cell_type": "markdown",
   "metadata": {
    "id": "Wggfn8l7nG72"
   },
   "source": [
    "### Выполнение:"
   ]
  },
  {
   "cell_type": "code",
   "execution_count": 344,
   "metadata": {
    "id": "681a95mZnOSa"
   },
   "outputs": [],
   "source": [
    "import itertools\n",
    "import networkx as nx\n",
    "import numpy.random as rnd\n",
    "import matplotlib.pyplot as plt\n",
    "import math\n",
    "from queue import PriorityQueue\n"
   ]
  },
  {
   "cell_type": "markdown",
   "metadata": {},
   "source": [
    "### Класс для графа"
   ]
  },
  {
   "cell_type": "code",
   "execution_count": null,
   "metadata": {},
   "outputs": [],
   "source": [
    "class Graph:\n",
    "\n",
    "    def __init__(self, graph_dict=dict()) -> None:\n",
    "        self._graph_dict = graph_dict\n",
    "\n",
    "    def add_vertex(self, vertex):\n",
    "        if vertex not in self._graph_dict:\n",
    "            self._graph_dict[vertex] = set()\n",
    "\n",
    "    def remove_edge(self, edge: tuple):\n",
    "        vertex1, vertex2 = tuple(edge)\n",
    "        for x, y in [(vertex1, vertex2), (vertex2, vertex1)]:\n",
    "            if x in self._graph_dict:\n",
    "                for connection in self._graph_dict[x]:\n",
    "                    _vertex, _weight = connection\n",
    "                    if _vertex == y:\n",
    "                        self._graph_dict[x].remove(connection)\n",
    "                        break\n",
    "\n",
    "    def add_edge(self, edge: tuple()):\n",
    "        vertex1, vertex2, weight = tuple(edge)\n",
    "        for x, y in [(vertex1, vertex2), (vertex2, vertex1)]:\n",
    "            if x in self._graph_dict:\n",
    "                self._graph_dict[x].add((y, weight))\n",
    "            else:\n",
    "                self._graph_dict[x] = {(y, weight)}\n",
    "\n",
    "    def remove_vertex(self, vertex: str):\n",
    "        self._graph_dict.pop(vertex, None)\n",
    "\n",
    "        for key, val in self._graph_dict.items():\n",
    "            for connection in val:\n",
    "                _vertex, _weight = connection\n",
    "\n",
    "                if vertex == _vertex:\n",
    "                    self._graph_dict[key].remove(connection)\n",
    "                    break\n",
    "\n",
    "    def neighbors(self, vertex):\n",
    "        return self._graph_dict[vertex]"
   ]
  },
  {
   "cell_type": "markdown",
   "metadata": {},
   "source": [
    "### Создание графа"
   ]
  },
  {
   "cell_type": "code",
   "execution_count": null,
   "metadata": {},
   "outputs": [],
   "source": [
    "graph = Graph()\n",
    "\n",
    "graph.add_vertex(\"a\")  # 0\n",
    "graph.add_vertex(\"b\")  # 1\n",
    "graph.add_vertex(\"c\")  # 2\n",
    "graph.add_vertex(\"d\")  # 3\n",
    "graph.add_vertex(\"e\")  # 4\n",
    "graph.add_vertex(\"f\")  # 5\n",
    "graph.add_vertex(\"g\")  # 6\n",
    "graph.add_vertex(\"h\")  # 7\n",
    "graph.add_vertex(\"j\")  # 8\n",
    "\n",
    "graph.add_edge((\"a\", \"b\", 2))\n",
    "graph.add_edge((\"a\", \"c\", 6))\n",
    "graph.add_edge((\"a\", \"d\", 8))\n",
    "graph.add_edge((\"a\", \"g\", 3))\n",
    "\n",
    "graph.add_edge((\"b\", \"c\", 9))\n",
    "graph.add_edge((\"b\", \"d\", 3))\n",
    "graph.add_edge((\"b\", \"f\", 4))\n",
    "graph.add_edge((\"b\", \"g\", 9))\n",
    "\n",
    "graph.add_edge((\"c\", \"d\", 7))\n",
    "\n",
    "graph.add_edge((\"d\", \"e\", 5))\n",
    "graph.add_edge((\"d\", \"f\", 5))\n",
    "\n",
    "graph.add_edge((\"e\", \"g\", 8))\n",
    "graph.add_edge((\"e\", \"h\", 9))\n",
    "\n",
    "graph.add_edge((\"f\", \"h\", 6))\n",
    "graph.add_edge((\"f\", \"j\", 4))\n",
    "graph.add_edge((\"j\", \"h\", 1))"
   ]
  },
  {
   "cell_type": "markdown",
   "metadata": {},
   "source": [
    "### Флойд-Уоршилл"
   ]
  },
  {
   "cell_type": "code",
   "execution_count": null,
   "metadata": {},
   "outputs": [],
   "source": []
  },
  {
   "cell_type": "markdown",
   "metadata": {},
   "source": [
    "### Дейкстра"
   ]
  },
  {
   "cell_type": "code",
   "execution_count": null,
   "metadata": {},
   "outputs": [],
   "source": [
    "\n",
    "def dijkstra(current_graph: Graph, start_position: str, final_position: str):\n",
    "    variants = PriorityQueue()\n",
    "    variants.put(start_position, 0)\n",
    "    came_from = {}\n",
    "    current_cost = {}\n",
    "    came_from[start_position] = None\n",
    "    current_cost[start_position] = 0\n",
    "    current = None\n",
    "\n",
    "    while not variants.empty():\n",
    "        current = variants.get()\n",
    "        #print(current)\n",
    "\n",
    "        # if current[0] == final_position:\n",
    "        #     return get_final_path(came_from, start_position, final_position)\n",
    "\n",
    "        for next in current_graph.neighbors(current[0]):\n",
    "            new_cost = current_cost[current[0]] + next[1]\n",
    "            if next[0] not in current_cost or new_cost < current_cost[next[0]]:\n",
    "                current_cost[next[0]] = new_cost\n",
    "\n",
    "                priority = new_cost\n",
    "                variants.put(next[0], priority)\n",
    "                came_from[next[0]] = current[0]\n",
    "\n",
    "    # current = variants.get()\n",
    "\n",
    "    if final_position in came_from.keys():\n",
    "        #print(came_from)\n",
    "        return get_final_path(came_from, start_position, final_position), current_cost[final_position]\n",
    "\n",
    "    return None\n",
    "\n",
    "\n",
    "def get_final_path(paths: list(), start, final):\n",
    "    current = final\n",
    "    result = list()\n",
    "    while True:\n",
    "        result.append(current)\n",
    "        #print(current)\n",
    "        if current == start:\n",
    "            return result[::-1]\n",
    "\n",
    "        current = paths[current]\n",
    "\n",
    "\n"
   ]
  },
  {
   "cell_type": "markdown",
   "metadata": {},
   "source": [
    "### Беллмана-Форда"
   ]
  },
  {
   "cell_type": "code",
   "execution_count": null,
   "metadata": {},
   "outputs": [],
   "source": []
  },
  {
   "cell_type": "markdown",
   "metadata": {},
   "source": [
    "### Джонсона"
   ]
  },
  {
   "cell_type": "code",
   "execution_count": null,
   "metadata": {},
   "outputs": [],
   "source": []
  },
  {
   "cell_type": "markdown",
   "metadata": {},
   "source": [
    "### Левита"
   ]
  },
  {
   "cell_type": "code",
   "execution_count": null,
   "metadata": {},
   "outputs": [],
   "source": []
  },
  {
   "cell_type": "markdown",
   "metadata": {},
   "source": [
    "### Йена"
   ]
  },
  {
   "cell_type": "code",
   "execution_count": null,
   "metadata": {},
   "outputs": [],
   "source": [
    "## Ин прогресс\n",
    "\n",
    "# print(dijkstra(graph, \"a\", \"h\"))\n",
    "roots = {}\n",
    "lenghts = {}\n",
    "roots[len(roots)], lenghts[len(lenghts)] = dijkstra(graph, 'a', 'h')\n",
    "# print(dijkstra(graph, roots[0][0], roots[0][1]))\n",
    "\n",
    "def show_roots(roots, lengths):\n",
    "    print(f\"Roots \\t\\t Lengths\")\n",
    "    for root in roots:\n",
    "        print(f'{roots[root]} \\t\\t {lenghts[root]}')\n",
    "\n",
    "\n",
    "show_roots(roots, lenghts)\n",
    "# print(roots[0])\n",
    "\n",
    "def yen_algos(roots:list, step:int, graph: Graph, start, finish):\n",
    "    CopyOfGraph = Graph()\n",
    "    CopyOfGraph = graph\n",
    "    arrayOfLenght = []\n",
    "    arrayOfLetters = []\n",
    "    candi, lenOfCandi = [], []\n",
    "    prev_vertex = None\n",
    "    str = []\n",
    "    for i in range(step+1):\n",
    "        current_vertex = roots[0][i]\n",
    "        if current_vertex == finish:\n",
    "            print(f'{i-1} steps is good for that graphs')\n",
    "            break\n",
    "        next_vertex = roots[0][i+1]\n",
    "        a, b = dijkstra(CopyOfGraph, current_vertex, next_vertex)\n",
    "        arrayOfLenght.append(b)\n",
    "        if len(arrayOfLenght)>1:\n",
    "            arrayOfLenght[-1] += arrayOfLenght[-2]\n",
    "        arrayOfLetters.append(a)\n",
    "        if i == 0:\n",
    "            CopyOfGraph.remove_edge((current_vertex, next_vertex))\n",
    "            a, b = dijkstra(CopyOfGraph, current_vertex, finish)\n",
    "            candi.append(a)\n",
    "            lenOfCandi.append(b)\n",
    "            print()\n",
    "            print(arrayOfLenght)\n",
    "            print()\n",
    "            prev_vertex = current_vertex\n",
    "            # CopyOfGraph.remove_vertex()\n",
    "        elif step == len(roots[0]):\n",
    "            print(\"hehe, boi\")\n",
    "            break\n",
    "        else:\n",
    "            CopyOfGraph.remove_vertex(prev_vertex)\n",
    "            CopyOfGraph.remove_edge((current_vertex, next_vertex))\n",
    "            a, b, = dijkstra(CopyOfGraph, current_vertex, finish)\n",
    "            b = b + arrayOfLenght[-1]\n",
    "            print('b')\n",
    "            print(b)\n",
    "            print('array')\n",
    "            print(arrayOfLenght)\n",
    "            print()\n",
    "            a.insert(0, str)\n",
    "            str.append(prev_vertex)\n",
    "            candi.append(a)\n",
    "            lenOfCandi.append(b)\n",
    "            prev_vertex = current_vertex\n",
    "    return candi, lenOfCandi\n",
    "\n",
    "canditates = []\n",
    "lenOfCandi = []\n",
    "canditates, lenOfCandi = yen_algos(roots, 2 , graph, 'a', 'h')\n",
    "print(canditates)\n",
    "print(lenOfCandi)\n",
    "\n",
    "\n",
    "# print(dijkstra(graph, roots[0][0], roots[0][1]))\n",
    "# print(canditates, candi_len)\n"
   ]
  }
 ],
 "metadata": {
  "colab": {
   "name": "Lab6.ipynb",
   "provenance": []
  },
  "kernelspec": {
   "display_name": "Python 3 (ipykernel)",
   "language": "python",
   "name": "python3"
  },
  "language_info": {
   "codemirror_mode": {
    "name": "ipython",
    "version": 3
   },
   "file_extension": ".py",
   "mimetype": "text/x-python",
   "name": "python",
   "nbconvert_exporter": "python",
   "pygments_lexer": "ipython3",
   "version": "3.10.4"
  }
 },
 "nbformat": 4,
 "nbformat_minor": 1
}

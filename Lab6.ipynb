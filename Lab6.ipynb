{
 "cells": [
  {
   "cell_type": "markdown",
   "metadata": {
    "id": "0z3KlfKDn4_K"
   },
   "source": [
    "# Лабораторная работа 6. \n",
    "# Сетевые алгоритмы. Динамические алгоритмы поиска путей.\n"
   ]
  },
  {
   "cell_type": "markdown",
   "metadata": {
    "id": "96Gi_LEvmSVH"
   },
   "source": [
    "## Выполнил студент группы ФИО ГРУППА\n",
    "***"
   ]
  },
  {
   "cell_type": "markdown",
   "metadata": {
    "id": "GjdIp8aToKIe"
   },
   "source": [
    "### Задание\n",
    "\n",
    "1.  Реализовать алгоритм поиска кратчайшего расстояния между двумя вершинами ориентированного взвешенного графа в соответствии с вариантом. \n",
    "\n",
    "2.  Предусмотреть задание графа в виде матрицы смежности/инцидентности, читаемой из файла, либо графически с помощью пользовательского интерфейса. \n",
    "\n",
    "3.  Разработать графический интерфейс пользователя с визуализацией графа и отображением кратчайшего расстояния между задаваемыми пользователем вершинами.\n",
    "\n",
    "4. По результатам работы проанализировать временную сложность работы заданного алгоритма в зависимости от числа узлов и ребер графа.\n",
    "Данные представить в виде таблицы.\n",
    "\n"
   ]
  },
  {
   "cell_type": "markdown",
   "metadata": {
    "id": "LhhUXrAmotIA"
   },
   "source": [
    "### Алгоритмы:\n",
    "\n",
    "Алгоритм Флойда-Уоршелла| Алгоритм Дейкстры | Алгоритм Беллмана-Форда | Алгоритм Джонсона| Алгоритм Левита | Алгоритм Йена\n",
    "\n"
   ]
  },
  {
   "cell_type": "markdown",
   "metadata": {
    "id": "Wggfn8l7nG72"
   },
   "source": [
    "### Выполнение:"
   ]
  },
  {
   "cell_type": "code",
   "execution_count": 344,
   "metadata": {
    "id": "681a95mZnOSa"
   },
   "outputs": [],
   "source": [
    "import itertools\n",
    "import networkx as nx\n",
    "import numpy.random as rnd\n",
    "import matplotlib.pyplot as plt\n",
    "import math"
   ]
  },
  {
   "cell_type": "code",
   "execution_count": 345,
   "metadata": {},
   "outputs": [
    {
     "data": {
      "text/plain": [
       "<networkx.classes.graph.Graph at 0x17bf932d420>"
      ]
     },
     "execution_count": 345,
     "metadata": {},
     "output_type": "execute_result"
    }
   ],
   "source": [
    "graph = nx.Graph()\n",
    "graph"
   ]
  },
  {
   "cell_type": "code",
   "execution_count": 346,
   "metadata": {},
   "outputs": [
    {
     "data": {
      "text/plain": [
       "NodeView(('A', 'B', 'C'))"
      ]
     },
     "execution_count": 346,
     "metadata": {},
     "output_type": "execute_result"
    }
   ],
   "source": [
    "graph.add_node('A')\n",
    "graph.add_node('B')\n",
    "graph.add_node('C')\n",
    "\n",
    "graph.nodes()\n"
   ]
  },
  {
   "cell_type": "code",
   "execution_count": 347,
   "metadata": {},
   "outputs": [],
   "source": [
    "def add_edge(f_item, s_item, graph = None):\n",
    "    graph.add_edge(f_item, s_item)\n",
    "    graph.add_edge(s_item, f_item)"
   ]
  },
  {
   "cell_type": "code",
   "execution_count": 348,
   "metadata": {},
   "outputs": [
    {
     "data": {
      "image/png": "[encoded data removed]",
      "text/plain": [
       "<Figure size 432x288 with 1 Axes>"
      ]
     },
     "metadata": {},
     "output_type": "display_data"
    }
   ],
   "source": [
    "add_edge('A','B',graph)\n",
    "add_edge('C','B',graph)\n",
    "add_edge('A','C',graph)\n",
    "\n",
    "nx.draw_circular(graph, node_color = 'red', node_size = 100, with_labels = True)"
   ]
  },
  {
   "cell_type": "code",
   "execution_count": 349,
   "metadata": {},
   "outputs": [
    {
     "data": {
      "image/png": "[encoded data removed]",
      "text/plain": [
       "<Figure size 432x288 with 1 Axes>"
      ]
     },
     "metadata": {},
     "output_type": "display_data"
    }
   ],
   "source": [
    "cities = {'a':(0,20),\n",
    "        'b':(15,24),\n",
    "        'c':(15,41),\n",
    "        'd':(10,40)}\n",
    "graph = nx.Graph()\n",
    "graph.add_nodes_from(cities)\n",
    "kilometres = {('a','b',15),\n",
    "            ('b','c',16),\n",
    "            ('b','d',25),\n",
    "            ('c','d',14),\n",
    "            ('d','a',18),\n",
    "            }\n",
    "graph.add_weighted_edges_from((kilometres))\n",
    "nx.draw_circular(graph, node_color = 'red', node_size = 100, with_labels = True)"
   ]
  },
  {
   "cell_type": "markdown",
   "metadata": {},
   "source": [
    "## Класс графа, для задачи ребер и вершин"
   ]
  },
  {
   "cell_type": "code",
   "execution_count": 350,
   "metadata": {},
   "outputs": [],
   "source": [
    "# Python program for Dijkstra's single\n",
    "# source shortest path algorithm. The program is\n",
    "# for adjacency matrix representation of the graph\n",
    "class Graph():\n",
    " \n",
    "    def __init__(self, vertices):\n",
    "        self.V = vertices\n",
    "        self.graph = [[0 for column in range(vertices)]\n",
    "                      for row in range(vertices)]\n",
    " \n",
    "    def printSolution(self, dist, finish):\n",
    "        print(\"Vertex \\t Distance from Source\")\n",
    "        for node in range(self.V):\n",
    "            if node == finish:\n",
    "                print(node, \"\\t\\t\", dist[node])\n",
    " \n",
    "    # A utility function to find the vertex with\n",
    "    # minimum distance value, from the set of vertices\n",
    "    # not yet included in shortest path tree\n",
    "    def minDistance(self, dist, sptSet):\n",
    " \n",
    "        # Initialize minimum distance for next node\n",
    "        min = 1e7\n",
    " \n",
    "        # Search not nearest vertex not in the\n",
    "        # shortest path tree\n",
    "        for v in range(self.V):\n",
    "            if dist[v] < min and sptSet[v] == False:\n",
    "                min = dist[v]\n",
    "                min_index = v\n",
    " \n",
    "        return min_index\n",
    " \n",
    "    # Function that implements Dijkstra's single source\n",
    "    # shortest path algorithm for a graph represented\n",
    "    # using adjacency matrix representation\n",
    "    def dijkstra(self, src, finish):\n",
    " \n",
    "        dist = [1e7] * self.V\n",
    "        dist[src] = 0\n",
    "        sptSet = [False] * self.V\n",
    " \n",
    "        for cout in range(self.V):\n",
    " \n",
    "            # Pick the minimum distance vertex from\n",
    "            # the set of vertices not yet processed.\n",
    "            # u is always equal to src in first iteration\n",
    "            u = self.minDistance(dist, sptSet)\n",
    " \n",
    "            # Put the minimum distance vertex in the\n",
    "            # shortest path tree\n",
    "            sptSet[u] = True\n",
    " \n",
    "            # Update dist value of the adjacent vertices\n",
    "            # of the picked vertex only if the current\n",
    "            # distance is greater than new distance and\n",
    "            # the vertex in not in the shortest path tree\n",
    "            for v in range(self.V):\n",
    "                if (self.graph[u][v] > 0 and\n",
    "                   sptSet[v] == False and\n",
    "                   dist[v] > dist[u] + self.graph[u][v]):\n",
    "                    dist[v] = dist[u] + self.graph[u][v]\n",
    " \n",
    "        self.printSolution(dist, finish)\n",
    "    "
   ]
  },
  {
   "cell_type": "code",
   "execution_count": 351,
   "metadata": {},
   "outputs": [
    {
     "name": "stdout",
     "output_type": "stream",
     "text": [
      "Vertex \t Distance from Source\n",
      "8 \t\t 14\n"
     ]
    }
   ],
   "source": [
    "g = Graph(9)\n",
    "           #a  b  c  d  e  f  g  h  i  \n",
    "mtx =     [[0, 4, 0, 0, 0, 0, 0, 8, 0],\n",
    "           [4, 0, 8, 0, 0, 0, 0, 11, 0],\n",
    "           [0, 8, 0, 7, 0, 4, 0, 0, 2],\n",
    "           [0, 0, 7, 0, 9, 14, 0, 0, 0],\n",
    "           [0, 0, 0, 9, 0, 10, 0, 0, 0],\n",
    "           [0, 0, 4, 14, 10, 0, 2, 0, 0],\n",
    "           [0, 0, 0, 0, 0, 2, 0, 1, 6],\n",
    "           [8, 11, 0, 0, 0, 0, 1, 0, 7],\n",
    "           [0, 0, 2, 0, 0, 0, 6, 7, 0]\n",
    "           ]\n",
    "g.graph = mtx\n",
    "g.dijkstra(0, 8)"
   ]
  },
  {
   "cell_type": "code",
   "execution_count": 352,
   "metadata": {},
   "outputs": [],
   "source": [
    "def dijkstra(graph, src):\n",
    "    # init\n",
    "    visited = []\n",
    "    distance = {src: 0}\n",
    "    node = list(range(len(graph[0])))\n",
    "    if src in node:\n",
    "        node.remove(src)\n",
    "        visited.append(src)\n",
    "    else:\n",
    "        return None\n",
    "    for i in node:\n",
    "        distance[i] = graph[src][i]\n",
    "    prefer = src\n",
    "    while node:\n",
    "        _distance = float('inf')\n",
    "        for i in visited:\n",
    "            for j in node:\n",
    "                if graph[i][j] > 0:\n",
    "                    if _distance > distance[i] + graph[i][j]:\n",
    "                        _distance = distance[j] = distance[i] + graph[i][j]\n",
    "                        prefer = j\n",
    "        visited.append(prefer)\n",
    "        node.remove(prefer)\n",
    "    return distance"
   ]
  },
  {
   "cell_type": "code",
   "execution_count": 353,
   "metadata": {},
   "outputs": [],
   "source": [
    "class MyGraph():\n",
    "    def __init__(self, vertices):\n",
    "        self.V = vertices\n",
    "        self.graph = [[0 for column in range(vertices)]\n",
    "                      for row in range(vertices)]\n",
    "\n",
    "    def delete_vericles(self, verticles):\n",
    "        if verticles == 0:\n",
    "            print('u are dumb')\n",
    "        else:\n",
    "            for row in range(len(self.graph)):\n",
    "                self.graph[row][verticles] = -1\n",
    "            for collum in range(len(self.graph)):\n",
    "                self.graph[verticles][collum] = -1\n",
    "        return self.graph\n",
    "    def show_mtx(self):\n",
    "        for row in range(len(self.graph)):\n",
    "            for collum in range(len(self.graph)):\n",
    "                print(self.graph[row][collum], end = ' ')\n",
    "            print()"
   ]
  },
  {
   "cell_type": "code",
   "execution_count": 354,
   "metadata": {},
   "outputs": [
    {
     "name": "stdout",
     "output_type": "stream",
     "text": [
      "{0: 0, 1: 2, 2: 1, 3: 2, 4: 3, 5: 4}\n"
     ]
    }
   ],
   "source": [
    "# g = MyGraph(9)\n",
    "#            #a  b  c  d  e  f  g  h  i  \n",
    "# mtx =     [[0, 4, 0, 0, 0, 0, 0, 8, 0],\n",
    "#            [4, 0, 8, 0, 0, 0, 0, 11, 0],\n",
    "#            [0, 8, 0, 7, 0, 4, 0, 0, 2],\n",
    "#            [0, 0, 7, 0, 9, 14, 0, 0, 0],\n",
    "#            [0, 0, 0, 9, 0, 10, 0, 0, 0],\n",
    "#            [0, 0, 4, 14, 10, 0, 2, 0, 0],\n",
    "#            [0, 0, 0, 0, 0, 2, 0, 1, 6],\n",
    "#            [8, 11, 0, 0, 0, 0, 1, 0, 7],\n",
    "#            [0, 0, 2, 0, 0, 0, 6, 7, 0]\n",
    "#            ]\n",
    "# g.graph = mtx\n",
    "# g.show_mtx()\n",
    "# print(\"___\")\n",
    "# g.graph = g.delete_vericles(1)\n",
    "# g.show_mtx()\n",
    "            #  a  b  c  d  e  f\n",
    "graph_list = [[0, 1, 0, 7, 0, 0],#a\n",
    "              [1, 0, 4, 2, 3, 4],#b\n",
    "              [2, 1, 0, 1, 2, 4],#c\n",
    "              [7, 5, 2, 0, 3, 3],#d\n",
    "              [2, 4, 3, 4, 0, 1],#e\n",
    "              [0, 4, 7, 3, 1, 0]]#f\n",
    "print(dijkstra(graph_list, 0))\n"
   ]
  },
  {
   "cell_type": "markdown",
   "metadata": {
    "id": "diOb-K7LnO5a"
   },
   "source": [
    "### Вывод"
   ]
  }
 ],
 "metadata": {
  "colab": {
   "name": "Lab6.ipynb",
   "provenance": []
  },
  "kernelspec": {
   "display_name": "Python 3 (ipykernel)",
   "language": "python",
   "name": "python3"
  },
  "language_info": {
   "codemirror_mode": {
    "name": "ipython",
    "version": 3
   },
   "file_extension": ".py",
   "mimetype": "text/x-python",
   "name": "python",
   "nbconvert_exporter": "python",
   "pygments_lexer": "ipython3",
   "version": "3.10.4"
  }
 },
 "nbformat": 4,
 "nbformat_minor": 1
}

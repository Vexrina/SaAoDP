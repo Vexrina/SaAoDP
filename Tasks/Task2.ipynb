{
 "cells": [
  {
   "cell_type": "markdown",
   "id": "arctic-stocks",
   "metadata": {},
   "source": [
    "### Задание №1\n",
    "Массив A состоит из целых положительных чисел длин отрезков. Составьте из трех отрезков такой треугольник, чтобы его периметр был максимально возможным. Если невозможно составить треугольник с положительной площадью функция возвращает 0."
   ]
  },
  {
   "cell_type": "code",
   "execution_count": 19,
   "id": "a04c2e88",
   "metadata": {},
   "outputs": [],
   "source": [
    "import numpy as np\n",
    "import random"
   ]
  },
  {
   "cell_type": "code",
   "execution_count": 20,
   "id": "caring-truck",
   "metadata": {
    "scrolled": false
   },
   "outputs": [
    {
     "name": "stdout",
     "output_type": "stream",
     "text": [
      "a = 75, b = 83, c = 97\n",
      "255\n"
     ]
    }
   ],
   "source": [
    "def triangleWithMaxPerimeter(ribs):\n",
    "    perimeter = 0\n",
    "\n",
    "    for i in range(0,len(ribs)):\n",
    "        for j in range(i+1,len(ribs)):\n",
    "            for k in range(j+1,len(ribs)):\n",
    "                if (ribs[i]+ribs[j]>ribs[k] and ribs[i]+ribs[k]>ribs[j] and ribs[k]+ribs[j]>ribs[i]):\n",
    "                    if (perimeter<ribs[i]+ribs[j]+ribs[k]):\n",
    "                        perimeter = ribs[i]+ribs[j]+ribs[k]\n",
    "                        a = ribs[i]\n",
    "                        b = ribs[j]\n",
    "                        c = ribs[k]\n",
    "    if(perimeter == 0):\n",
    "        print(\"bad ribs\")\n",
    "    else:\n",
    "        print(f'a = {a}, b = {b}, c = {c}')\n",
    "    return perimeter\n",
    "array = [random.randint(10, 100) for i in range(10)]\n",
    "array.sort()\n",
    "print(triangleWithMaxPerimeter(array))"
   ]
  },
  {
   "cell_type": "markdown",
   "id": "maritime-conversation",
   "metadata": {},
   "source": [
    "### Задание №2\n",
    "Дан массив неотрицательных целых чисел nums. Расположите их в таком порядке, чтобы вместе они образовали максимально возможное число. Замечание: Результат может быть очень большим числом, поэтому представьте его как string, а не integer."
   ]
  },
  {
   "cell_type": "code",
   "execution_count": 21,
   "id": "alert-charm",
   "metadata": {
    "scrolled": false
   },
   "outputs": [
    {
     "name": "stdout",
     "output_type": "stream",
     "text": [
      "95534330\n",
      "0\n",
      "343234323\n"
     ]
    }
   ],
   "source": [
    "def compareNumbers(a, b):\n",
    "    first_number = str(a)\n",
    "    second_number = str(b)\n",
    "\n",
    "    minLength = len(first_number)\n",
    "    if len(second_number) < minLength: \n",
    "        minLength = len(second_number)\n",
    "\n",
    "    for digit_index in range(minLength):\n",
    "        if (int(first_number[digit_index]) < int(second_number[digit_index])):\n",
    "            return True\n",
    "        elif int(first_number[digit_index]) == int(second_number[digit_index]):\n",
    "            if digit_index == minLength-1:\n",
    "                if len(first_number) < len(second_number):\n",
    "                    return compareNumbers(int(first_number), int(second_number[minLength : len(second_number)]))\n",
    "                elif len(first_number) > len(second_number):\n",
    "                    return compareNumbers(int(first_number[minLength : len(first_number)]), int(second_number))\n",
    "        else:\n",
    "            return False\n",
    "\n",
    "def insertionSort(nums):\n",
    "        for i in range(1, len(nums)):\n",
    "            k = i-1\n",
    "            while k >= 0 and compareNumbers(nums[k], nums[k+1]):\n",
    "                nums[k], nums[k+1] = nums[k+1], nums[k]\n",
    "                k-=1\n",
    "\n",
    "def trimZeros(number):\n",
    "    for digit_index in range (len(number)):\n",
    "        if digit_index != len(number)-1:\n",
    "            if number[digit_index] != '0':\n",
    "                return number[digit_index:len(number)]\n",
    "        else:\n",
    "            return number[digit_index:len(number)]\n",
    "    return number\n",
    "\n",
    "\n",
    "def biggestNumber(nums):\n",
    "    result = \"\"\n",
    "    \n",
    "    insertionSort(nums)\n",
    "\n",
    "    for i in range(len(nums)):\n",
    "        result += str(nums[i])\n",
    "\n",
    "    result = trimZeros(result)\n",
    "\n",
    "    return result\n",
    "\n",
    "print(biggestNumber([5, 3, 30, 34, 5, 9]))\n",
    "print(biggestNumber([0,0]))\n",
    "print(biggestNumber([34323, 3432]))"
   ]
  },
  {
   "cell_type": "markdown",
   "id": "catholic-roots",
   "metadata": {},
   "source": [
    "### Задание №3\n",
    "Дана матрица mat размером m * n, значения целочисленные. Напишите функцию, сортирующую каждую диагональ матрицы по возрастанию и возвращающую получившуюся матрицу."
   ]
  },
  {
   "cell_type": "code",
   "execution_count": 22,
   "id": "bf95edd1",
   "metadata": {},
   "outputs": [],
   "source": [
    "def matrix_copy(current_matrix):\n",
    "    result = []\n",
    "    for element in current_matrix:\n",
    "        result.append(element.copy())\n",
    "    return result"
   ]
  },
  {
   "cell_type": "code",
   "execution_count": 23,
   "id": "484f6168",
   "metadata": {},
   "outputs": [],
   "source": [
    "def matrix_diag_sort(matrix):\n",
    "    result = matrix_copy(matrix)\n",
    "    temp = list()\n",
    "    while True:\n",
    "        m=len(matrix)\n",
    "        n=len(matrix[0])\n",
    "\n",
    "        temp = diag_sort(result, m, n, 0, 0)\n",
    "        if m>n:\n",
    "            temp = diag_sort(temp, m, n, m-n, 0)\n",
    "        elif m<n:\n",
    "            temp = diag_sort(temp, m, n, 0, n-m)\n",
    "\n",
    "        if temp == result:\n",
    "            return result\n",
    "        else:\n",
    "            result = matrix_copy(temp)"
   ]
  },
  {
   "cell_type": "code",
   "execution_count": 24,
   "id": "f0c7b35e",
   "metadata": {},
   "outputs": [],
   "source": [
    "def diag_sort(matrix, m, n, skip_1, skip_2):\n",
    "    result = matrix_copy(matrix)\n",
    "\n",
    "    diag = list()\n",
    "    length = min(m,n)\n",
    "    for i in range(length):\n",
    "        diag.append(result[skip_1+i][skip_2+i])\n",
    "    diag = sorted(diag)\n",
    "    for i in range(length):\n",
    "        result[skip_1+i][skip_2+i] = diag[i]\n",
    "\n",
    "    diag = list()\n",
    "    for i in range(length):\n",
    "        diag.append(result[skip_1+length-1-i][skip_2+i])\n",
    "    diag = sorted(diag)\n",
    "    for i in range(length):\n",
    "        result[skip_1+length-1-i][skip_2+i] = diag[i]\n",
    "\n",
    "    return result"
   ]
  },
  {
   "cell_type": "code",
   "execution_count": 25,
   "id": "008872ab",
   "metadata": {},
   "outputs": [],
   "source": [
    "def print_matrix(matrix):\n",
    "    for i in matrix:\n",
    "        print(i)"
   ]
  },
  {
   "cell_type": "code",
   "execution_count": 28,
   "id": "ab448e6c",
   "metadata": {},
   "outputs": [
    {
     "name": "stdout",
     "output_type": "stream",
     "text": [
      "[15, 8, 19, 9, 7, 14]\n",
      "[19, 3, 21, 1, 5, 24]\n",
      "[5, 21, 11, 0, 24, 5]\n",
      "[8, 19, 15, 10, 6, 19]\n",
      "[9, 18, 10, 9, 21, 20]\n",
      "\n",
      "[3, 0, 19, 9, 19, 18]\n",
      "[19, 9, 6, 11, 15, 24]\n",
      "[5, 21, 10, 14, 24, 5]\n",
      "[8, 7, 8, 15, 20, 19]\n",
      "[1, 5, 10, 9, 21, 21]\n"
     ]
    }
   ],
   "source": [
    "N = 6\n",
    "M = 5\n",
    "mat = [[random.randint(0, 25) for i in range(N)] for j in range (M)]\n",
    "print_matrix(mat)\n",
    "print()\n",
    "print_matrix(matrix_diag_sort(mat))"
   ]
  }
 ],
 "metadata": {
  "interpreter": {
   "hash": "d112bc00c22738e02b415a6c0706112d29ef316d5e38ed8e2bb335390871b6af"
  },
  "kernelspec": {
   "display_name": "Python 3.10.4 64-bit",
   "language": "python",
   "name": "python3"
  },
  "language_info": {
   "codemirror_mode": {
    "name": "ipython",
    "version": 3
   },
   "file_extension": ".py",
   "mimetype": "text/x-python",
   "name": "python",
   "nbconvert_exporter": "python",
   "pygments_lexer": "ipython3",
   "version": "3.10.4"
  }
 },
 "nbformat": 4,
 "nbformat_minor": 5
}

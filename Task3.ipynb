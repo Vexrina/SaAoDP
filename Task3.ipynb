{
 "cells": [
  {
   "cell_type": "markdown",
   "id": "fifteen-sailing",
   "metadata": {},
   "source": [
    "# Набор заданий №3\n",
    "\n",
    "### Задание 1\n",
    "В Тридевятом Царстве уже много лет как установилась конституционная монархия. В парламент Тридевятого царства входят 26 партий, обозначаемых строчными буквами английского алфавита от «a» до «z». Заседание парламента в соответствии с регламентом проходит по следующей схеме:\n",
    "- В начале заседания никаких законопроектов на повестке дня не стоит.\n",
    "- Любая партия (в том числе и та, которая внесла текущий законопроект) в любой момент времени может внести на обсуждение новый законопроект.\n",
    "- При вносе партией нового законопроекта обсуждение предыдущего приостанавливается и начинается обсуждение нового. После того, как парламентарии голосуют за новый законопроект, обсуждение законопроекта, прерванного им, продолжается.\n",
    "- Дискуссия по любому законопроекту обязана завершиться голосованием по этому законопроекту.\n",
    "- В конце заседания не должно остаться внесённых законопроектов, дискуссия по которым не завершена.\n",
    "\n",
    "Вам дана запись о событиях на сессии парламента. Каждое событие является либо внесением нового законопроекта, либо голосованием за какой-то законопроект, причём в обоих случаях известен номер партии, этот законопроект предложившей. События даны в том порядке, в котором они происходили. Проверьте, может ли данная запись о событиях соответствовать какому-либо заседанию, удовлетворяющему порядку проведения, описанному выше.\n",
    "#### Ввод\n",
    "Первая строка входных данных содержит одно целое число *K* – количество строк в записи сессии (1 ≤ *K* ≤ 1000). Каждая строка соответствует одному из двух событий:\n",
    "\n",
    "- Add *x* – партия x внесла на голосование законопроект.\n",
    "- Vote *x* – прошло голосование за документ, внесённый партией *x*.\n",
    "\n",
    "Здесь *x* – строчная буква английского алфавита от «a» до «z», задающая партию.\n",
    "#### Вывод\n",
    "Выведите «Yes», если существует корректный порядок проведения заседания, который мог привести к такой записи, и «No», если ни при каком корректном порядке проведения заседания данная запись появиться не могла."
   ]
  },
  {
   "cell_type": "code",
   "execution_count": 6,
   "id": "concerned-lewis",
   "metadata": {},
   "outputs": [
    {
     "name": "stdout",
     "output_type": "stream",
     "text": [
      "no\n",
      "yes\n",
      "no\n"
     ]
    }
   ],
   "source": [
    "from collections import deque#дек будем использовать как стэк\n",
    "AddVote = deque()\n",
    "def Add(letter, stack):\n",
    "    stack.append(letter)\n",
    "    return None\n",
    "\n",
    "def Vote(letter, stack):\n",
    "    if not len(stack) == 0:\n",
    "        a = stack.pop()\n",
    "        if a == letter:\n",
    "            return True\n",
    "        else: \n",
    "            return False\n",
    "    else:\n",
    "        return False\n",
    "\n",
    "def instruction(path, parties, iteration):\n",
    "    temp = None\n",
    "    if path[iteration] == \"A\":\n",
    "        temp = Add(parties[iteration], AddVote)\n",
    "    elif path[iteration] == \"V\":\n",
    "        temp = Vote(parties[iteration], AddVote)\n",
    "    return temp\n",
    "\n",
    "def __main__(path, parties):\n",
    "    counter = 0\n",
    "    check = False\n",
    "    while counter < len(path)-1:\n",
    "        temp = instruction(path, parties, counter)\n",
    "        if temp is not None:\n",
    "            if temp:\n",
    "                counter+=1\n",
    "            else:\n",
    "                break\n",
    "        else:\n",
    "            counter += 1 \n",
    "        check = temp\n",
    "    if check: print(\"yes\")\n",
    "    else: print(\"no\")\n",
    "\n",
    "__main__(\"AAVV\", \"abab\")\n",
    "__main__(\"AVAAAVVV\", \"zzxyxxyx\")\n",
    "__main__(\"V\",\"z\")"
   ]
  },
  {
   "cell_type": "markdown",
   "id": "controversial-location",
   "metadata": {},
   "source": [
    "### Задача 2. Правильный подмногоугольник\n",
    "\n",
    "Задан правильный *N*-угольник. Требуется выбрать наименьшее количество его вершин, которые также образуют правильный многоугольник.\n",
    "\n",
    "#### Входные данные\n",
    "\n",
    "Входные данные содержат одно целое число *N* (3 ≤ *N* ≤ 1012).\n",
    "\n",
    "#### Вывод\n",
    "\n",
    "Выведите одно число — наименьшее количество вершин заданного многоугольника, которые образуют правильный многоугольник."
   ]
  },
  {
   "cell_type": "code",
   "execution_count": 7,
   "id": "coated-highway",
   "metadata": {},
   "outputs": [
    {
     "name": "stdout",
     "output_type": "stream",
     "text": [
      "3\n",
      "17\n",
      "433\n",
      "5\n",
      "4\n"
     ]
    }
   ],
   "source": [
    "import math\n",
    "\n",
    "def perebor_chet(n):\n",
    "    for i in range(5, int(math.sqrt(n)), 2):\n",
    "        if n%i==0:\n",
    "            return i\n",
    "    if(n%2==0):\n",
    "        return int(n/2)\n",
    "    else:\n",
    "        return n\n",
    "\n",
    "def rightNangle(n):\n",
    "    if n%3==0:\n",
    "        return 3\n",
    "    elif n%4==0:\n",
    "        return 4\n",
    "    else:\n",
    "        return(perebor_chet(n))\n",
    "\n",
    "\n",
    "print(rightNangle(87))\n",
    "print(rightNangle(527))\n",
    "print(rightNangle(866))\n",
    "print(rightNangle(115))\n",
    "print(rightNangle(8))"
   ]
  },
  {
   "cell_type": "markdown",
   "id": "cordless-fundamentals",
   "metadata": {},
   "source": [
    "### Задача 3.\n",
    "\n",
    "На форуме, на котором обсуждаются задачи олимпиад по информатике, ввели следующий аналог капчи. Участнику выдаётся строка из *N* десятичных цифр (без ведущих нулей). В качестве ответа требуется ввести такое основание системы счисления *B*, что в этой системе счисления выданная запись будет соответствовать составному числу (назовем его *D*), а также число *X*, большее 1 и меньшее *D*, являющееся делителем *D*.\n",
    "\n",
    "При этом *B* и *X* не должны превосходить 10^9.\n",
    "\n",
    "По заданной строке десятичных цифр найдите любую пару чисел *B* и *X*, удовлетворяющую ограничениям, или ответьте, что решения в заданных ограничениях не существует.\n",
    "\n",
    "#### Входные данные\n",
    "\n",
    "Входные данные состоят из непустой строки длиной до 3 ⋅ 106 символов, составленной из цифр от 0 до 9 и не начинающейся с 0.\n",
    "\n",
    "#### Вывод\n",
    "\n",
    "Если решение существует, выведите два числа – основание системы счисления *B* и делитель *X*, записанные в десятичной системе счисления. Оба числа должны удовлетворять ограничениям 2 ≤ *B*, *X* ≤ 10^9. Если решения не существует, выведите –1."
   ]
  },
  {
   "cell_type": "code",
   "execution_count": 8,
   "id": "8503cabe",
   "metadata": {},
   "outputs": [],
   "source": [
    "alphabet = []\n",
    "for i in range(64,91):\n",
    "    for j in range(65, 91):\n",
    "        temp = ''\n",
    "        if i == 64:\n",
    "            temp += chr(j)\n",
    "        else:\n",
    "            temp+= chr(i) + chr(j)\n",
    "        alphabet.append(temp)"
   ]
  },
  {
   "cell_type": "code",
   "execution_count": 9,
   "id": "jewish-rocket",
   "metadata": {
    "scrolled": true
   },
   "outputs": [],
   "source": [
    "def to_any_system(number, cc):\n",
    "    result = ''\n",
    "    while number >0:\n",
    "        temp = number%cc\n",
    "        if temp >= 10:\n",
    "            result = alphabet[temp-10] + result\n",
    "        else:\n",
    "            result = str(temp) + result\n",
    "        number //= cc\n",
    "    return result"
   ]
  },
  {
   "cell_type": "code",
   "execution_count": 10,
   "id": "59777791",
   "metadata": {},
   "outputs": [],
   "source": [
    "def to_ten_cc(number, cc):\n",
    "    return int(number,cc)\n",
    "\n",
    "def is_prime(number):\n",
    "    answer = []\n",
    "    for counter in range(2,number+1):\n",
    "        number1 = to_any_system(number,counter)\n",
    "        for delitel in range(2, number):\n",
    "            delitel1 = to_any_system(delitel, counter)\n",
    "            if int(number1)%int(delitel1) == 0:\n",
    "                answer.append((to_ten_cc(delitel1, counter), counter))\n",
    "    if len(answer)>0:\n",
    "        return answer\n",
    "    else:\n",
    "        return None"
   ]
  },
  {
   "cell_type": "code",
   "execution_count": 11,
   "id": "0b7aa59c",
   "metadata": {},
   "outputs": [
    {
     "ename": "TypeError",
     "evalue": "'str' object is not callable",
     "output_type": "error",
     "traceback": [
      "\u001b[1;31m---------------------------------------------------------------------------\u001b[0m",
      "\u001b[1;31mTypeError\u001b[0m                                 Traceback (most recent call last)",
      "\u001b[1;32mf:\\Users\\admin\\Documents\\GitHub\\SaAoDP\\Task3.ipynb Cell 9'\u001b[0m in \u001b[0;36m<module>\u001b[1;34m\u001b[0m\n\u001b[0;32m     <a href='vscode-notebook-cell:/f%3A/Users/admin/Documents/GitHub/SaAoDP/Task3.ipynb#ch0000008?line=9'>10</a>\u001b[0m     \u001b[39mprint\u001b[39m(\u001b[39m'\u001b[39m\u001b[39m(divider, number system)\u001b[39m\u001b[39m'\u001b[39m)\n\u001b[0;32m     <a href='vscode-notebook-cell:/f%3A/Users/admin/Documents/GitHub/SaAoDP/Task3.ipynb#ch0000008?line=10'>11</a>\u001b[0m     \u001b[39mprint\u001b[39m(answer)\n\u001b[1;32m---> <a href='vscode-notebook-cell:/f%3A/Users/admin/Documents/GitHub/SaAoDP/Task3.ipynb#ch0000008?line=12'>13</a>\u001b[0m __main__(\u001b[39m4\u001b[39;49m)\n",
      "\u001b[1;32mf:\\Users\\admin\\Documents\\GitHub\\SaAoDP\\Task3.ipynb Cell 9'\u001b[0m in \u001b[0;36m__main__\u001b[1;34m(number)\u001b[0m\n\u001b[0;32m      <a href='vscode-notebook-cell:/f%3A/Users/admin/Documents/GitHub/SaAoDP/Task3.ipynb#ch0000008?line=5'>6</a>\u001b[0m     \u001b[39mprint\u001b[39m(\u001b[39m-\u001b[39m\u001b[39m1\u001b[39m)\n\u001b[0;32m      <a href='vscode-notebook-cell:/f%3A/Users/admin/Documents/GitHub/SaAoDP/Task3.ipynb#ch0000008?line=6'>7</a>\u001b[0m     \u001b[39mreturn\u001b[39;00m\n\u001b[1;32m----> <a href='vscode-notebook-cell:/f%3A/Users/admin/Documents/GitHub/SaAoDP/Task3.ipynb#ch0000008?line=7'>8</a>\u001b[0m answer \u001b[39m=\u001b[39m is_prime(number)\n\u001b[0;32m      <a href='vscode-notebook-cell:/f%3A/Users/admin/Documents/GitHub/SaAoDP/Task3.ipynb#ch0000008?line=8'>9</a>\u001b[0m \u001b[39mprint\u001b[39m(\u001b[39mf\u001b[39m\u001b[39m'\u001b[39m\u001b[39mreceived number: \u001b[39m\u001b[39m{\u001b[39;00mnumber\u001b[39m}\u001b[39;00m\u001b[39m'\u001b[39m)\n\u001b[0;32m     <a href='vscode-notebook-cell:/f%3A/Users/admin/Documents/GitHub/SaAoDP/Task3.ipynb#ch0000008?line=9'>10</a>\u001b[0m \u001b[39mprint\u001b[39m(\u001b[39m'\u001b[39m\u001b[39m(divider, number system)\u001b[39m\u001b[39m'\u001b[39m)\n",
      "\u001b[1;32mf:\\Users\\admin\\Documents\\GitHub\\SaAoDP\\Task3.ipynb Cell 8'\u001b[0m in \u001b[0;36mis_prime\u001b[1;34m(number)\u001b[0m\n\u001b[0;32m      <a href='vscode-notebook-cell:/f%3A/Users/admin/Documents/GitHub/SaAoDP/Task3.ipynb#ch0000007?line=4'>5</a>\u001b[0m answer \u001b[39m=\u001b[39m []\n\u001b[0;32m      <a href='vscode-notebook-cell:/f%3A/Users/admin/Documents/GitHub/SaAoDP/Task3.ipynb#ch0000007?line=5'>6</a>\u001b[0m \u001b[39mfor\u001b[39;00m counter \u001b[39min\u001b[39;00m \u001b[39mrange\u001b[39m(\u001b[39m2\u001b[39m,number\u001b[39m+\u001b[39m\u001b[39m1\u001b[39m):\n\u001b[1;32m----> <a href='vscode-notebook-cell:/f%3A/Users/admin/Documents/GitHub/SaAoDP/Task3.ipynb#ch0000007?line=6'>7</a>\u001b[0m     number1 \u001b[39m=\u001b[39m to_any_system(number,counter)\n\u001b[0;32m      <a href='vscode-notebook-cell:/f%3A/Users/admin/Documents/GitHub/SaAoDP/Task3.ipynb#ch0000007?line=7'>8</a>\u001b[0m     \u001b[39mfor\u001b[39;00m delitel \u001b[39min\u001b[39;00m \u001b[39mrange\u001b[39m(\u001b[39m2\u001b[39m, number):\n\u001b[0;32m      <a href='vscode-notebook-cell:/f%3A/Users/admin/Documents/GitHub/SaAoDP/Task3.ipynb#ch0000007?line=8'>9</a>\u001b[0m         delitel1 \u001b[39m=\u001b[39m to_any_system(delitel, counter)\n",
      "\u001b[1;32mf:\\Users\\admin\\Documents\\GitHub\\SaAoDP\\Task3.ipynb Cell 7'\u001b[0m in \u001b[0;36mto_any_system\u001b[1;34m(number, cc)\u001b[0m\n\u001b[0;32m      <a href='vscode-notebook-cell:/f%3A/Users/admin/Documents/GitHub/SaAoDP/Task3.ipynb#ch0000006?line=5'>6</a>\u001b[0m         result \u001b[39m=\u001b[39m alphabet[temp\u001b[39m-\u001b[39m\u001b[39m10\u001b[39m] \u001b[39m+\u001b[39m result\n\u001b[0;32m      <a href='vscode-notebook-cell:/f%3A/Users/admin/Documents/GitHub/SaAoDP/Task3.ipynb#ch0000006?line=6'>7</a>\u001b[0m     \u001b[39melse\u001b[39;00m:\n\u001b[1;32m----> <a href='vscode-notebook-cell:/f%3A/Users/admin/Documents/GitHub/SaAoDP/Task3.ipynb#ch0000006?line=7'>8</a>\u001b[0m         result \u001b[39m=\u001b[39m \u001b[39mstr\u001b[39;49m(temp) \u001b[39m+\u001b[39m result\n\u001b[0;32m      <a href='vscode-notebook-cell:/f%3A/Users/admin/Documents/GitHub/SaAoDP/Task3.ipynb#ch0000006?line=8'>9</a>\u001b[0m     number \u001b[39m/\u001b[39m\u001b[39m/\u001b[39m\u001b[39m=\u001b[39m cc\n\u001b[0;32m     <a href='vscode-notebook-cell:/f%3A/Users/admin/Documents/GitHub/SaAoDP/Task3.ipynb#ch0000006?line=9'>10</a>\u001b[0m \u001b[39mreturn\u001b[39;00m result\n",
      "\u001b[1;31mTypeError\u001b[0m: 'str' object is not callable"
     ]
    }
   ],
   "source": [
    "def to_ten_cc(number, cc):\n",
    "    return int(number,cc)\n",
    "\n",
    "def __main__(number):\n",
    "    if number==2:\n",
    "        print(-1)\n",
    "        return\n",
    "    answer = is_prime(number)\n",
    "    print(f'received number: {number}')\n",
    "    print('(divider, number system)')\n",
    "    print(answer)\n",
    "\n",
    "__main__(4)"
   ]
  },
  {
   "cell_type": "code",
   "execution_count": null,
   "id": "4df85a1e",
   "metadata": {},
   "outputs": [
    {
     "ename": "TypeError",
     "evalue": "'str' object is not callable",
     "output_type": "error",
     "traceback": [
      "\u001b[1;31m---------------------------------------------------------------------------\u001b[0m",
      "\u001b[1;31mTypeError\u001b[0m                                 Traceback (most recent call last)",
      "\u001b[1;32mf:\\Users\\admin\\Documents\\GitHub\\SaAoDP\\Task3.ipynb Cell 10'\u001b[0m in \u001b[0;36m<module>\u001b[1;34m\u001b[0m\n\u001b[0;32m      <a href='vscode-notebook-cell:/f%3A/Users/admin/Documents/GitHub/SaAoDP/Task3.ipynb#ch0000009?line=7'>8</a>\u001b[0m concat \u001b[39m=\u001b[39m \u001b[39m\"\u001b[39m\u001b[39m\"\u001b[39m\n\u001b[0;32m      <a href='vscode-notebook-cell:/f%3A/Users/admin/Documents/GitHub/SaAoDP/Task3.ipynb#ch0000009?line=8'>9</a>\u001b[0m \u001b[39mwhile\u001b[39;00m sub_seq \u001b[39m>\u001b[39m \u001b[39m0\u001b[39m:\n\u001b[1;32m---> <a href='vscode-notebook-cell:/f%3A/Users/admin/Documents/GitHub/SaAoDP/Task3.ipynb#ch0000009?line=9'>10</a>\u001b[0m     concat \u001b[39m=\u001b[39m \u001b[39mstr\u001b[39;49m(sub_seq \u001b[39m%\u001b[39;49m i) \u001b[39m+\u001b[39m concat\n\u001b[0;32m     <a href='vscode-notebook-cell:/f%3A/Users/admin/Documents/GitHub/SaAoDP/Task3.ipynb#ch0000009?line=10'>11</a>\u001b[0m     sub_seq \u001b[39m/\u001b[39m\u001b[39m/\u001b[39m\u001b[39m=\u001b[39m i\n\u001b[0;32m     <a href='vscode-notebook-cell:/f%3A/Users/admin/Documents/GitHub/SaAoDP/Task3.ipynb#ch0000009?line=11'>12</a>\u001b[0m     syst \u001b[39m=\u001b[39m i\n",
      "\u001b[1;31mTypeError\u001b[0m: 'str' object is not callable"
     ]
    }
   ],
   "source": [
    "seq = int(input())\n",
    "res = []\n",
    "\n",
    "i = 2\n",
    "\n",
    "while i != seq:\n",
    "    sub_seq = seq\n",
    "    concat = \"\"\n",
    "    while sub_seq > 0:\n",
    "        concat = str(sub_seq % i) + concat\n",
    "        sub_seq //= i\n",
    "        syst = i\n",
    "    int_concat = int(concat)\n",
    "    for j in range(2, (int_concat+1)//2):\n",
    "        if int_concat % j ==0:\n",
    "            res.append([syst, j])\n",
    "    i+=1\n",
    "if len(res) != 0:\n",
    "    print(res)\n",
    "else:\n",
    "    print(-1)"
   ]
  }
 ],
 "metadata": {
  "interpreter": {
   "hash": "d112bc00c22738e02b415a6c0706112d29ef316d5e38ed8e2bb335390871b6af"
  },
  "kernelspec": {
   "display_name": "Python 3.10.4 64-bit",
   "language": "python",
   "name": "python3"
  },
  "language_info": {
   "codemirror_mode": {
    "name": "ipython",
    "version": 3
   },
   "file_extension": ".py",
   "mimetype": "text/x-python",
   "name": "python",
   "nbconvert_exporter": "python",
   "pygments_lexer": "ipython3",
   "version": "3.10.4"
  }
 },
 "nbformat": 4,
 "nbformat_minor": 5
}

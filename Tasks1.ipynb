{
 "cells": [
  {
   "cell_type": "markdown",
   "id": "244314fb",
   "metadata": {},
   "source": [
    "# Задание 1"
   ]
  },
  {
   "cell_type": "markdown",
   "id": "64630386",
   "metadata": {},
   "source": [
    "Даны две строки: `s1` и `s2` с одинаковым размером.\n",
    "\n",
    "Проверьте, может ли некоторая перестановка строки `s1` “победить” некоторую перестановку строки `s2` или наоборот.\n",
    "\n",
    "Строка x может “победить” строку y (обе имеют размер n), если `x[i] >= y[i]` (в алфавитном порядке) для всех i от 0 до n-1.\n"
   ]
  },
  {
   "cell_type": "markdown",
   "id": "cf51dab2",
   "metadata": {},
   "source": [
    "## Ввод"
   ]
  },
  {
   "cell_type": "markdown",
   "id": "d697a747",
   "metadata": {},
   "source": [
    "`abc`\n",
    "`xya`"
   ]
  },
  {
   "cell_type": "markdown",
   "id": "50b10a2e",
   "metadata": {},
   "source": [
    "## Вывод"
   ]
  },
  {
   "cell_type": "markdown",
   "id": "55442a49",
   "metadata": {},
   "source": [
    "`True`\n",
    "\n",
    "### Исполняемый код записать в ячейку ниже:"
   ]
  },
  {
   "cell_type": "code",
   "execution_count": 3,
   "id": "3b0d440a",
   "metadata": {},
   "outputs": [
    {
     "name": "stdout",
     "output_type": "stream",
     "text": [
      "('x', 'c', 'y') and ('y', 'b', 'z')\n",
      "True\n"
     ]
    }
   ],
   "source": [
    "import itertools\n",
    "\n",
    "def winner(a,b):\n",
    "    for i in range(len(a)):\n",
    "        if(a[i]<=b[i]):\n",
    "            if(a[i]==b[i]):\n",
    "                continue\n",
    "            else:\n",
    "                return True\n",
    "        else:\n",
    "            break\n",
    "    return False\n",
    "\n",
    "s1 = \"cxy\"\n",
    "s2 = \"byz\"\n",
    "per1 = list(itertools.permutations(s1))\n",
    "per2 = list(itertools.permutations(s2))\n",
    "result = False\n",
    "if(len(s1)!=len(s2)):\n",
    "    print(False)\n",
    "else:\n",
    "    for i in range(len(per1)):\n",
    "        if(winner(per1[i], per2[i])):\n",
    "            result = True\n",
    "            print(f'{per1[i]} and {per2[i]}')\n",
    "            break\n",
    "    print(result)"
   ]
  },
  {
   "cell_type": "markdown",
   "id": "b3a969a6",
   "metadata": {},
   "source": [
    "# Задание 2"
   ]
  },
  {
   "cell_type": "markdown",
   "id": "9c1ce05d",
   "metadata": {},
   "source": [
    "Дана строка `s`, вернуть самую длинную полиндромную подстроку в `s`."
   ]
  },
  {
   "cell_type": "markdown",
   "id": "20415c0e",
   "metadata": {},
   "source": [
    "## Ввод"
   ]
  },
  {
   "cell_type": "markdown",
   "id": "e77fcb44",
   "metadata": {},
   "source": [
    "`babad`"
   ]
  },
  {
   "cell_type": "markdown",
   "id": "49996449",
   "metadata": {},
   "source": [
    "## Вывод"
   ]
  },
  {
   "cell_type": "markdown",
   "id": "75be2464",
   "metadata": {},
   "source": [
    "`aba` или `bab`"
   ]
  },
  {
   "cell_type": "markdown",
   "id": "12ef9771",
   "metadata": {},
   "source": [
    "## Исполняемый код записывать в ячейку ниже"
   ]
  },
  {
   "cell_type": "code",
   "execution_count": 4,
   "id": "3f06c4fc",
   "metadata": {},
   "outputs": [
    {
     "name": "stdout",
     "output_type": "stream",
     "text": [
      "bab\n"
     ]
    }
   ],
   "source": [
    "s = 'babad'\n",
    "m = ''\n",
    "for i in range(len(s)):\n",
    "    for j in range(len(s),i,-1):\n",
    "        if len(m) >= j-i:\n",
    "            break\n",
    "        elif s[i:j]==s[i:j][::-1]:\n",
    "            m = s[i:j]\n",
    "print(m)"
   ]
  },
  {
   "cell_type": "markdown",
   "id": "5f54b630",
   "metadata": {},
   "source": [
    "# Задание 3"
   ]
  },
  {
   "cell_type": "markdown",
   "id": "566f1d3b",
   "metadata": {},
   "source": [
    "Вернуть количество отдельных непустых подстрок текста, которые могут быть записаны как конкатенация некоторой строки с самой собой (т.е. она может быть записана, как `a + a`, где `a` - некоторая строка)."
   ]
  },
  {
   "cell_type": "markdown",
   "id": "0f734fd8",
   "metadata": {},
   "source": [
    "## Ввод"
   ]
  },
  {
   "cell_type": "markdown",
   "id": "e0be5554",
   "metadata": {},
   "source": [
    "`aabb`"
   ]
  },
  {
   "cell_type": "markdown",
   "id": "ab8eda0b",
   "metadata": {},
   "source": [
    "## Вывод"
   ]
  },
  {
   "cell_type": "markdown",
   "id": "1d716d36",
   "metadata": {},
   "source": [
    "2"
   ]
  },
  {
   "cell_type": "markdown",
   "id": "fcd91349",
   "metadata": {},
   "source": [
    "## Исполняемый код записывать в ячейку ниже"
   ]
  },
  {
   "cell_type": "code",
   "execution_count": 5,
   "id": "be07379d",
   "metadata": {},
   "outputs": [
    {
     "ename": "KeyboardInterrupt",
     "evalue": "",
     "output_type": "error",
     "traceback": [
      "\u001b[1;31m---------------------------------------------------------------------------\u001b[0m",
      "\u001b[1;31mKeyboardInterrupt\u001b[0m                         Traceback (most recent call last)",
      "\u001b[1;32mf:\\Users\\admin\\Documents\\GitHub\\SaAoDP\\Tasks1.ipynb Cell 23'\u001b[0m in \u001b[0;36m<module>\u001b[1;34m\u001b[0m\n\u001b[0;32m     <a href='vscode-notebook-cell:/f%3A/Users/admin/Documents/GitHub/SaAoDP/Tasks1.ipynb#ch0000022?line=16'>17</a>\u001b[0m s1 \u001b[39m=\u001b[39m s[i]\n\u001b[0;32m     <a href='vscode-notebook-cell:/f%3A/Users/admin/Documents/GitHub/SaAoDP/Tasks1.ipynb#ch0000022?line=17'>18</a>\u001b[0m \u001b[39mif\u001b[39;00m s1 \u001b[39min\u001b[39;00m wasStrings:\n\u001b[1;32m---> <a href='vscode-notebook-cell:/f%3A/Users/admin/Documents/GitHub/SaAoDP/Tasks1.ipynb#ch0000022?line=18'>19</a>\u001b[0m     step\u001b[39m+\u001b[39m\u001b[39m=\u001b[39m\u001b[39m1\u001b[39m\n\u001b[0;32m     <a href='vscode-notebook-cell:/f%3A/Users/admin/Documents/GitHub/SaAoDP/Tasks1.ipynb#ch0000022?line=19'>20</a>\u001b[0m \u001b[39melse\u001b[39;00m:\n\u001b[0;32m     <a href='vscode-notebook-cell:/f%3A/Users/admin/Documents/GitHub/SaAoDP/Tasks1.ipynb#ch0000022?line=20'>21</a>\u001b[0m     wasStrings\u001b[39m.\u001b[39mappend(s1)\n",
      "\u001b[1;31mKeyboardInterrupt\u001b[0m: "
     ]
    }
   ],
   "source": [
    "def count_substrings(str1,s2):\n",
    "    count = 0\n",
    "    i = -1\n",
    "    while(True):\n",
    "        i = str1.find(s2, i+1)\n",
    "        if i == -1:\n",
    "            return count\n",
    "        count +=1\n",
    "\n",
    "s = 'aabb'\n",
    "counts = 0\n",
    "step = 0\n",
    "s1 = ''\n",
    "wasStrings = []\n",
    "while step!= len(s)/2:\n",
    "    for i in range(len(s)):\n",
    "        s1 = s[i]\n",
    "        if s1 in wasStrings:\n",
    "            step+=1\n",
    "        else:\n",
    "            wasStrings.append(s1)\n",
    "            counts += count_substrings(s,s1)\n",
    "            step+=1\n",
    "\n",
    "print(counts)"
   ]
  }
 ],
 "metadata": {
  "kernelspec": {
   "display_name": "Python 3 (ipykernel)",
   "language": "python",
   "name": "python3"
  },
  "language_info": {
   "codemirror_mode": {
    "name": "ipython",
    "version": 3
   },
   "file_extension": ".py",
   "mimetype": "text/x-python",
   "name": "python",
   "nbconvert_exporter": "python",
   "pygments_lexer": "ipython3",
   "version": "3.10.2"
  }
 },
 "nbformat": 4,
 "nbformat_minor": 5
}

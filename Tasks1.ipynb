{
 "cells": [
  {
   "cell_type": "markdown",
   "id": "244314fb",
   "metadata": {},
   "source": [
    "# Задание 1"
   ]
  },
  {
   "cell_type": "markdown",
   "id": "64630386",
   "metadata": {},
   "source": [
    "Даны две строки: `s1` и `s2` с одинаковым размером.\n",
    "\n",
    "Проверьте, может ли некоторая перестановка строки `s1` “победить” некоторую перестановку строки `s2` или наоборот.\n",
    "\n",
    "Строка x может “победить” строку y (обе имеют размер n), если `x[i] >= y[i]` (в алфавитном порядке) для всех i от 0 до n-1.\n"
   ]
  },
  {
   "cell_type": "markdown",
   "id": "cf51dab2",
   "metadata": {},
   "source": [
    "## Ввод"
   ]
  },
  {
   "cell_type": "markdown",
   "id": "d697a747",
   "metadata": {},
   "source": [
    "`abc`\n",
    "`xya`"
   ]
  },
  {
   "cell_type": "markdown",
   "id": "50b10a2e",
   "metadata": {},
   "source": [
    "## Вывод"
   ]
  },
  {
   "cell_type": "markdown",
   "id": "55442a49",
   "metadata": {},
   "source": [
    "`True`\n",
    "\n",
    "### Исполняемый код записать в ячейку ниже:"
   ]
  },
  {
   "cell_type": "code",
   "execution_count": 1,
   "id": "3b0d440a",
   "metadata": {},
   "outputs": [
    {
     "name": "stdout",
     "output_type": "stream",
     "text": [
      "('x', 'c', 'y') and ('y', 'b', 'z')\n",
      "True\n"
     ]
    }
   ],
   "source": [
    "import itertools\n",
    "\n",
    "def winner(a,b):\n",
    "    for i in range(len(a)):\n",
    "        if(a[i]<=b[i]):\n",
    "            if(a[i]==b[i]):\n",
    "                continue\n",
    "            else:\n",
    "                return True\n",
    "        else:\n",
    "            break\n",
    "    return False\n",
    "\n",
    "s1 = \"cxy\"\n",
    "s2 = \"byz\"\n",
    "per1 = list(itertools.permutations(s1))\n",
    "per2 = list(itertools.permutations(s2))\n",
    "result = False\n",
    "if(len(s1)!=len(s2)):\n",
    "    print(False)\n",
    "else:\n",
    "    for i in range(len(per1)):\n",
    "        if(winner(per1[i], per2[i])):\n",
    "            result = True\n",
    "            print(f'{per1[i]} and {per2[i]}')\n",
    "            break\n",
    "    print(result)"
   ]
  },
  {
   "cell_type": "markdown",
   "id": "b3a969a6",
   "metadata": {},
   "source": [
    "# Задание 2"
   ]
  },
  {
   "cell_type": "markdown",
   "id": "9c1ce05d",
   "metadata": {},
   "source": [
    "Дана строка `s`, вернуть самую длинную полиндромную подстроку в `s`."
   ]
  },
  {
   "cell_type": "markdown",
   "id": "20415c0e",
   "metadata": {},
   "source": [
    "## Ввод"
   ]
  },
  {
   "cell_type": "markdown",
   "id": "e77fcb44",
   "metadata": {},
   "source": [
    "`babad`"
   ]
  },
  {
   "cell_type": "markdown",
   "id": "49996449",
   "metadata": {},
   "source": [
    "## Вывод"
   ]
  },
  {
   "cell_type": "markdown",
   "id": "75be2464",
   "metadata": {},
   "source": [
    "`aba` или `bab`"
   ]
  },
  {
   "cell_type": "markdown",
   "id": "12ef9771",
   "metadata": {},
   "source": [
    "## Исполняемый код записывать в ячейку ниже"
   ]
  },
  {
   "cell_type": "code",
   "execution_count": 2,
   "id": "3f06c4fc",
   "metadata": {},
   "outputs": [
    {
     "name": "stdout",
     "output_type": "stream",
     "text": [
      "bab\n"
     ]
    }
   ],
   "source": [
    "s = 'babad'\n",
    "m = ''\n",
    "for i in range(len(s)):\n",
    "    for j in range(len(s),i,-1):\n",
    "        if len(m) >= j-i:\n",
    "            break\n",
    "        elif s[i:j]==s[i:j][::-1]:\n",
    "            m = s[i:j]\n",
    "print(m)"
   ]
  },
  {
   "cell_type": "markdown",
   "id": "5f54b630",
   "metadata": {},
   "source": [
    "# Задание 3"
   ]
  },
  {
   "cell_type": "markdown",
   "id": "566f1d3b",
   "metadata": {},
   "source": [
    "Вернуть количество отдельных непустых подстрок текста, которые могут быть записаны как конкатенация некоторой строки с самой собой (т.е. она может быть записана, как `a + a`, где `a` - некоторая строка)."
   ]
  },
  {
   "cell_type": "markdown",
   "id": "0f734fd8",
   "metadata": {},
   "source": [
    "## Ввод"
   ]
  },
  {
   "cell_type": "markdown",
   "id": "e0be5554",
   "metadata": {},
   "source": [
    "`aabb`"
   ]
  },
  {
   "cell_type": "markdown",
   "id": "ab8eda0b",
   "metadata": {},
   "source": [
    "## Вывод"
   ]
  },
  {
   "cell_type": "markdown",
   "id": "1d716d36",
   "metadata": {},
   "source": [
    "2"
   ]
  },
  {
   "cell_type": "markdown",
   "id": "fcd91349",
   "metadata": {},
   "source": [
    "## Исполняемый код записывать в ячейку ниже"
   ]
  },
  {
   "cell_type": "code",
   "execution_count": 4,
   "id": "be07379d",
   "metadata": {},
   "outputs": [
    {
     "ename": "KeyboardInterrupt",
     "evalue": "",
     "output_type": "error",
     "traceback": [
      "\u001b[1;31m---------------------------------------------------------------------------\u001b[0m",
      "\u001b[1;31mKeyboardInterrupt\u001b[0m                         Traceback (most recent call last)",
      "\u001b[1;32mf:\\Users\\admin\\Documents\\GitHub\\SaAoDP\\Tasks1.ipynb Cell 23'\u001b[0m in \u001b[0;36m<module>\u001b[1;34m\u001b[0m\n\u001b[0;32m     <a href='vscode-notebook-cell:/f%3A/Users/admin/Documents/GitHub/SaAoDP/Tasks1.ipynb#ch0000022?line=12'>13</a>\u001b[0m s1 \u001b[39m=\u001b[39m \u001b[39m'\u001b[39m\u001b[39m'\u001b[39m\n\u001b[0;32m     <a href='vscode-notebook-cell:/f%3A/Users/admin/Documents/GitHub/SaAoDP/Tasks1.ipynb#ch0000022?line=13'>14</a>\u001b[0m wasStrings \u001b[39m=\u001b[39m []\n\u001b[1;32m---> <a href='vscode-notebook-cell:/f%3A/Users/admin/Documents/GitHub/SaAoDP/Tasks1.ipynb#ch0000022?line=14'>15</a>\u001b[0m \u001b[39mwhile\u001b[39;00m step\u001b[39m!=\u001b[39;49m \u001b[39mlen\u001b[39;49m(s)\u001b[39m/\u001b[39;49m\u001b[39m2\u001b[39;49m:\n\u001b[0;32m     <a href='vscode-notebook-cell:/f%3A/Users/admin/Documents/GitHub/SaAoDP/Tasks1.ipynb#ch0000022?line=15'>16</a>\u001b[0m     \u001b[39mfor\u001b[39;00m i \u001b[39min\u001b[39;00m \u001b[39mrange\u001b[39m(\u001b[39mlen\u001b[39m(s)):\n\u001b[0;32m     <a href='vscode-notebook-cell:/f%3A/Users/admin/Documents/GitHub/SaAoDP/Tasks1.ipynb#ch0000022?line=16'>17</a>\u001b[0m         s1 \u001b[39m=\u001b[39m s[i]\n",
      "\u001b[1;31mKeyboardInterrupt\u001b[0m: "
     ]
    }
   ],
   "source": [
    "str1 = \"aabb\"\n",
    "\n",
    "def concat_str(str1):\n",
    "    flag = 0\n",
    "    for i in range(len(str1)):\n",
    "        for j in range(i+1, len(str1)):\n",
    "            sub1 = str1[i:j]\n",
    "            l = len(sub1)\n",
    "            if j + l <= len(str1):\n",
    "                sub2 = str1[i+l:j+l]\n",
    "                if sub1==sub2:\n",
    "                    flag += 1\n",
    "    return flag\n",
    "print(concat_str(str1))"
   ]
  }
 ],
 "metadata": {
  "kernelspec": {
   "display_name": "Python 3 (ipykernel)",
   "language": "python",
   "name": "python3"
  },
  "language_info": {
   "codemirror_mode": {
    "name": "ipython",
    "version": 3
   },
   "file_extension": ".py",
   "mimetype": "text/x-python",
   "name": "python",
   "nbconvert_exporter": "python",
   "pygments_lexer": "ipython3",
   "version": "3.10.4"
  }
 },
 "nbformat": 4,
 "nbformat_minor": 5
}

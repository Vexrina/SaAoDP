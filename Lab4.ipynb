{
 "cells": [
  {
   "cell_type": "markdown",
   "id": "fifteen-sailing",
   "metadata": {},
   "source": [
    "# Лабораторная работа №4\n",
    "## Выполнил студент группы Щавлев К.В. БВТ2003"
   ]
  },
  {
   "cell_type": "markdown",
   "id": "arctic-stocks",
   "metadata": {},
   "source": [
    "Реализовать следующие структуры данных:\n",
    "  \n",
    "● <b> Стек (stack): </b>  \n",
    "Операции для стека: \n",
    "<i> инициализация, проверка на пустоту, добавление нового элемента в начало, извлечение элемента из начала;  </i>  \n",
    "  \n",
    "● <b> Дек (двусторонняя очередь, deque):  </b>  \n",
    "Операции для дека: \n",
    "<i> инициализация, проверка на пустоту, добавление нового элемента в начало, добавление нового элемента в конец, извлечение элемента из начала, извлечение элемента из конца. </i>  \n",
    "  \n",
    "<i> Разработать программу обработки данных, содержащихся в заранее подготовленном txt-файле, в соответствии с заданиями, применив указанную в задании структуру данных. Результат работы программы вывести на экран и сохранить в отдельном txt-файле. </i>"
   ]
  },
  {
   "cell_type": "code",
   "execution_count": 45,
   "id": "dcb77c4f",
   "metadata": {},
   "outputs": [],
   "source": [
    "from pathlib import Path #для файлов\n",
    "import random #нужно только для второго квеста (обязательно) и для 7го(для тестов)"
   ]
  },
  {
   "cell_type": "code",
   "execution_count": 46,
   "id": "4507c27b",
   "metadata": {},
   "outputs": [],
   "source": [
    "class LinkedNode:\n",
    "    'Связный список с ссылками на обратный и следующий элемент'\n",
    "    def __init__(self, value=None):\n",
    "        self.value = value\n",
    "        self.right = None\n",
    "        self.left = None"
   ]
  },
  {
   "cell_type": "code",
   "execution_count": 47,
   "id": "8a7de696",
   "metadata": {},
   "outputs": [],
   "source": [
    "# Класс для стека\n",
    "class Stack:\n",
    "    def __init__(self):\n",
    "        self.head = LinkedNode()\n",
    "        self.size = 0\n",
    "\n",
    "    def is_empty(self):\n",
    "        return self.size == 0\n",
    "\n",
    "    def push(self, value):\n",
    "        if self.size > 0:\n",
    "            node = LinkedNode(value)\n",
    "            node.right = self.head\n",
    "            self.head = node\n",
    "        else:\n",
    "            self.head.value = value\n",
    "        self.size += 1\n",
    "      \n",
    "    def pop(self):\n",
    "        if self.is_empty():\n",
    "            raise Exception(\"Popping from an empty stack\")\n",
    "        remove = self.head\n",
    "        if self.size > 1:\n",
    "            self.head = remove.right\n",
    "        self.size -= 1\n",
    "        return remove.value\n",
    "    \n",
    "    def peek(self):\n",
    "        if self.is_empty():\n",
    "            raise Exception(\"Popping from an empty stack\")\n",
    "        return self.head.value\n",
    "    \n",
    "    def __len__(self):\n",
    "        return self.size\n",
    "\n",
    "    def reverse(self):\n",
    "        current = self.head\n",
    "        prev = None\n",
    "        next = None\n",
    "    \n",
    "        while current is not None:\n",
    "            next = current.right\n",
    "            current.right = prev\n",
    "            prev = current\n",
    "            current = next\n",
    "\n",
    "        self.head = prev"
   ]
  },
  {
   "cell_type": "code",
   "execution_count": 48,
   "id": "4330a731",
   "metadata": {},
   "outputs": [],
   "source": [
    "# Класс для дека\n",
    "class Deque:\n",
    "    def __init__(self):\n",
    "        self.head = LinkedNode()\n",
    "        self.tail = self.head\n",
    "        self.size = 0\n",
    "    \n",
    "    def is_empty(self):\n",
    "        return self.size == 0\n",
    "\n",
    "    def push_left(self, value):\n",
    "        if self.size > 0:\n",
    "            node = LinkedNode(value)\n",
    "            node.right = self.tail\n",
    "            self.tail.left = node\n",
    "            self.tail = node\n",
    "        else:\n",
    "            self.tail.value = value\n",
    "        self.size += 1\n",
    "\n",
    "    def push(self, value):\n",
    "        if self.size > 0:\n",
    "            node = LinkedNode(value)\n",
    "            node.left = self.head\n",
    "            self.head.right = node\n",
    "            self.head = node\n",
    "        else:\n",
    "            self.head.value = value\n",
    "        self.size += 1\n",
    "    \n",
    "    def pop_left(self):\n",
    "        if self.is_empty():\n",
    "            raise Exception(\"Popping from an empty deque\")\n",
    "        remove = self.tail\n",
    "        if self.size > 1:\n",
    "            self.tail = remove.right\n",
    "        self.size -= 1\n",
    "        return remove.value\n",
    "    \n",
    "    def pop(self):\n",
    "        if self.is_empty():\n",
    "            raise Exception(\"Popping from an empty deque\")\n",
    "        remove = self.head\n",
    "        if self.size > 1:\n",
    "            self.head = remove.left\n",
    "        self.size -= 1\n",
    "        return remove.value\n",
    "    \n",
    "    def peek(self):\n",
    "        if self.is_empty():\n",
    "            raise Exception(\"Popping from an empty deque\")\n",
    "        return self.head.value\n",
    "    \n",
    "    def peek_left(self):\n",
    "        if self.is_empty():\n",
    "            raise Exception(\"Popping from an empty deque\")\n",
    "        return self.tail.value\n",
    "\n",
    "    def __len__(self):\n",
    "        return self.size"
   ]
  },
  {
   "cell_type": "code",
   "execution_count": 104,
   "id": "1851ae1c",
   "metadata": {},
   "outputs": [],
   "source": [
    "def file_to_int(path):\n",
    "    with open(path, 'r', encoding = 'utf-8') as txt:\n",
    "        return int((txt.read()))\n",
    "\n",
    "def file_to_int_array(path):\n",
    "    with open(path, 'r', encoding = 'utf-8') as txt:\n",
    "        array = list(map(int, txt.read().split()))\n",
    "        return array\n",
    "\n",
    "def file_to_str_array(path):\n",
    "    with open(path, 'r', encoding = 'utf-8') as txt:\n",
    "        array = list(txt.read().split('\\n'))\n",
    "        return array\n",
    "\n",
    "def file_to_str(path):\n",
    "    with open(path, 'r', encoding = 'utf-8') as txt:\n",
    "        return txt.read()"
   ]
  },
  {
   "cell_type": "markdown",
   "id": "5d7edb08",
   "metadata": {
    "scrolled": true
   },
   "source": [
    "### Задание №1\n",
    "Отсортировать строки файла, содержащие названия книг, в алфавитном порядке с использованием двух деков."
   ]
  },
  {
   "cell_type": "code",
   "execution_count": 90,
   "id": "17702ade",
   "metadata": {},
   "outputs": [],
   "source": [
    "def task01(books):\n",
    "    q1 = Deque()\n",
    "    q2 = Deque()\n",
    "    for book in books:\n",
    "        q1.push(book)\n",
    "    while not len(q1)==0:\n",
    "        x = q1.pop()\n",
    "        while not q2.is_empty() and q2.peek() > x:\n",
    "            q1.push(q2.pop())\n",
    "        q2.push(x)\n",
    "    while not len(q2)==0:\n",
    "        print(q2.pop_left())"
   ]
  },
  {
   "cell_type": "code",
   "execution_count": 91,
   "id": "1b28dd97",
   "metadata": {},
   "outputs": [
    {
     "name": "stdout",
     "output_type": "stream",
     "text": [
      "Animal Crossing\n",
      "Batman\n",
      "Bayonetta\n",
      "Bloodborne\n",
      "Counter-Strike\n",
      "Dark Souls\n",
      "Elden Ring\n",
      "Mortal Kombat\n",
      "Sherlock Holmes\n",
      "The Legend of Zelda\n",
      "Watch Dogs\n",
      "Witcher\n"
     ]
    }
   ],
   "source": [
    "task01(file_to_str_array('1.txt'))"
   ]
  },
  {
   "cell_type": "markdown",
   "id": "49fbd2a0",
   "metadata": {},
   "source": [
    "### Задание №2\n",
    "Дек содержит последовательность символов для шифровки сообщений. Дан текстовый файл, содержащий зашифрованное сообщение. Пользуясь деком, расшифровать текст. \n",
    "Известно, что при шифровке каждый символ сообщения заменялся следующим за ним в деке по часовой стрелке через один."
   ]
  },
  {
   "cell_type": "code",
   "execution_count": 51,
   "id": "81cab7a8",
   "metadata": {},
   "outputs": [
    {
     "name": "stdout",
     "output_type": "stream",
     "text": [
      "оьнъзекуёфщпвтйчшжхэлбаымигсяцрюд\n"
     ]
    }
   ],
   "source": [
    "alphabet = list('абвгдеёжзийклмнопрстуфхцчшщъыьэюя')\n",
    "random.shuffle(alphabet)\n",
    "alphabet = ''.join(alphabet)\n",
    "print(alphabet)\n",
    "keyRing = Deque()\n",
    "for letter in alphabet:\n",
    "    keyRing.push(letter)"
   ]
  },
  {
   "cell_type": "code",
   "execution_count": 52,
   "id": "3c6b2118",
   "metadata": {},
   "outputs": [],
   "source": [
    "def encode_char(c):\n",
    "    for i in range(len(keyRing)):\n",
    "        x = keyRing.pop_left()\n",
    "        if x == c:\n",
    "            keyRing.push(x)\n",
    "            val = keyRing.pop_left()\n",
    "            keyRing.push(val)\n",
    "            return val\n",
    "        keyRing.push(x)\n",
    "\n",
    "def decode_char(c):\n",
    "    for i in range(len(keyRing)):\n",
    "        x = keyRing.pop()\n",
    "        if x == c:\n",
    "            keyRing.push_left(x)\n",
    "            val = keyRing.pop()\n",
    "            keyRing.push_left(val)\n",
    "            return val\n",
    "        keyRing.push_left(x)"
   ]
  },
  {
   "cell_type": "code",
   "execution_count": 53,
   "id": "eec4320f",
   "metadata": {},
   "outputs": [],
   "source": [
    "def task02(text):\n",
    "    encoded = ''\n",
    "    for letter in text:\n",
    "        if encoded_letter := encode_char(letter): encoded += encoded_letter\n",
    "        else: encoded += letter\n",
    "    print(\"Зашифрованный текст:\\n\", encoded, \"\\n\")\n",
    "\n",
    "    decoded = ''\n",
    "    for letter in encoded:\n",
    "        if decoded_letter := decode_char(letter): decoded += decoded_letter\n",
    "        else: decoded += letter\n",
    "    print(\"Расшифрованный текст:\\n\", decoded)"
   ]
  },
  {
   "cell_type": "code",
   "execution_count": 93,
   "id": "d83b40b1",
   "metadata": {},
   "outputs": [
    {
     "name": "stdout",
     "output_type": "stream",
     "text": [
      "Зашифрованный текст:\n",
      " Я вюьяйь эьшё ёикюкйн ы ък ёшгйн ягыьо. 11124190417520917259 №!\"%!\"%:!))%*! \n",
      "\n",
      "Расшифрованный текст:\n",
      " Я просто хочу умереть а не учить сиаод. 11124190417520917259 №!\"%!\"%:!))%*!\n"
     ]
    }
   ],
   "source": [
    "task02(file_to_str('file_str.txt'))"
   ]
  },
  {
   "cell_type": "markdown",
   "id": "c0894f47",
   "metadata": {},
   "source": [
    "### Задание №3\n",
    "Даны три стержня и n дисков различного размера. Диски можно надевать на стержни, образуя из них башни. Перенести n дисков со стержня А на стержень С, сохранив их первоначальный порядок. При переносе дисков необходимо соблюдать следующие правила:\n",
    "- на каждом шаге со стержня на стержень переносить только один диск;\n",
    "- диск нельзя помещать на диск меньшего размера;\n",
    "- для промежуточного хранения можно использовать стержень В.\n",
    "Реализовать алгоритм, используя три стека вместо стержней А, В, С. Информация о дисках хранится в исходном файле."
   ]
  },
  {
   "cell_type": "code",
   "execution_count": 55,
   "id": "9e91a9d4",
   "metadata": {},
   "outputs": [],
   "source": [
    "def move(a: Stack, b: Stack) -> None:\n",
    "    if b.__len__() > 0 and a.peek() > b.peek():  # проверяем при каждом перемешении что диск снизу больше чем сверху\n",
    "        raise Exception(\"Wrong solving\")\n",
    "    b.push(a.pop())"
   ]
  },
  {
   "cell_type": "code",
   "execution_count": 56,
   "id": "7e654575",
   "metadata": {},
   "outputs": [],
   "source": [
    "def task03(disks: int, from_: Stack, to_: Stack, with_: Stack, was_disks = 0) -> None:\n",
    "  if disks >= 1:\n",
    "    task03(disks-1, from_, with_, to_)\n",
    "    move(from_, to_)\n",
    "    task03(disks-1, with_, to_, from_)\n",
    "  if was_disks>0:\n",
    "    for __ in range(was_disks):\n",
    "      print(to_.pop())"
   ]
  },
  {
   "cell_type": "code",
   "execution_count": 94,
   "id": "19ec59a3",
   "metadata": {},
   "outputs": [
    {
     "name": "stdout",
     "output_type": "stream",
     "text": [
      "1\n",
      "2\n",
      "3\n",
      "4\n",
      "5\n"
     ]
    }
   ],
   "source": [
    "DISKS = file_to_int('file_int.txt')\n",
    "\n",
    "A = Stack()\n",
    "B = Stack()\n",
    "C = Stack()\n",
    "\n",
    "for i in range(DISKS, 0, -1):\n",
    "  A.push(i)\n",
    "\n",
    "task03(DISKS, A, C, B, DISKS)"
   ]
  },
  {
   "cell_type": "markdown",
   "id": "e5b0be17",
   "metadata": {},
   "source": [
    "### Задание №4\n",
    "Дан текстовый файл с программой на алгоритмическом языке. За один просмотр файла проверить баланс круглых скобок в тексте, используя стек."
   ]
  },
  {
   "cell_type": "code",
   "execution_count": 98,
   "id": "5b1df60a",
   "metadata": {},
   "outputs": [
    {
     "name": "stdout",
     "output_type": "stream",
     "text": [
      "True\n",
      "False\n"
     ]
    }
   ],
   "source": [
    "def check_brackets(string):\n",
    "    bracket_stack = Stack()\n",
    "    for i in string:\n",
    "        if i == '(':\n",
    "            bracket_stack.push(i)\n",
    "        elif i == ')':\n",
    "            if bracket_stack.is_empty():\n",
    "                return False\n",
    "            bracket_stack.pop()\n",
    "    return bracket_stack.is_empty()\n",
    "wb = file_to_str('file_wrong_kruglie_brackets.txt')\n",
    "gb = file_to_str('file_good_kruglie_brackets.txt')\n",
    "\n",
    "print(check_brackets(gb))\n",
    "print(check_brackets(wb))"
   ]
  },
  {
   "cell_type": "markdown",
   "id": "c44cdd6b",
   "metadata": {},
   "source": [
    "### Задание №5\n",
    "Дан текстовый файл с программой на алгоритмическом языке. За один просмотр файла проверить баланс квадратных скобок в тексте, используя дек."
   ]
  },
  {
   "cell_type": "code",
   "execution_count": 99,
   "id": "36b8f400",
   "metadata": {},
   "outputs": [
    {
     "name": "stdout",
     "output_type": "stream",
     "text": [
      "True\n",
      "False\n"
     ]
    }
   ],
   "source": [
    "def check_square_brackets(string):\n",
    "    bracket_stack = Deque()\n",
    "    for i in string:\n",
    "        if i == '[':\n",
    "            bracket_stack.push(i)\n",
    "        elif i == ']':\n",
    "            if bracket_stack.is_empty():\n",
    "                return False\n",
    "            bracket_stack.pop()\n",
    "    return bracket_stack.is_empty()\n",
    "\n",
    "wb = file_to_str('file_wrong_square_brackets.txt')\n",
    "gb = file_to_str('file_good_square_brackets.txt')\n",
    "\n",
    "print(check_square_brackets(gb))\n",
    "print(check_square_brackets(wb))"
   ]
  },
  {
   "cell_type": "markdown",
   "id": "59d13dc7",
   "metadata": {},
   "source": [
    "### Задание №6\n",
    "Дан файл из символов. Используя стек, за один просмотр файла напечатать сначала все цифры, затем все буквы, и, наконец, все остальные символы, сохраняя исходный порядок в каждой группе символов."
   ]
  },
  {
   "cell_type": "code",
   "execution_count": 64,
   "id": "297e36c2",
   "metadata": {},
   "outputs": [],
   "source": [
    "def task06(text):\n",
    "    letters = Stack()\n",
    "    digits =  Stack()\n",
    "    others =  Stack()\n",
    "\n",
    "    for c in text:\n",
    "        if c.isalpha(): letters.push(c)\n",
    "        elif c.isdigit(): digits.push(c)\n",
    "        else: others.push(c)\n",
    "\n",
    "    new_text = ''\n",
    "\n",
    "    letters.reverse()\n",
    "    digits.reverse()\n",
    "    others.reverse()\n",
    "\n",
    "    while not digits.is_empty():\n",
    "        new_text += digits.pop()\n",
    "\n",
    "    while not letters.is_empty():\n",
    "        new_text += letters.pop()\n",
    "\n",
    "    while not others.is_empty():\n",
    "        new_text += others.pop()\n",
    "\n",
    "    print(new_text)"
   ]
  },
  {
   "cell_type": "code",
   "execution_count": 67,
   "id": "2d433931",
   "metadata": {},
   "outputs": [
    {
     "name": "stdout",
     "output_type": "stream",
     "text": [
      "1941241320001284ЗачемЖитьВмиревкотороместьEСиаод, ,  ,   , $#!$\n"
     ]
    }
   ],
   "source": [
    "task06(file_to_str('file_str.txt'))"
   ]
  },
  {
   "cell_type": "markdown",
   "id": "973f68bd",
   "metadata": {},
   "source": [
    "### Задание №7\n",
    "Дан файл из целых чисел. Используя дек, за один просмотр файла напечатать сначала все отрицательные числа, затем все положительные числа, сохраняя исходный порядок в каждой группе."
   ]
  },
  {
   "cell_type": "code",
   "execution_count": 74,
   "id": "c56fad66",
   "metadata": {},
   "outputs": [],
   "source": [
    "def task07(numbers):\n",
    "    deque = Deque()\n",
    "    for n in numbers:\n",
    "        if n < 0:\n",
    "            deque.push_left(n)\n",
    "        else:\n",
    "            deque.push(n)\n",
    "\n",
    "    while not deque.is_empty():\n",
    "        x = deque.pop_left()\n",
    "        if x < 0:\n",
    "            deque.push(x)\n",
    "        else:\n",
    "            deque.push_left(x)\n",
    "            break\n",
    "\n",
    "    while not deque.is_empty():\n",
    "        x = deque.pop()\n",
    "        if x < 0:\n",
    "            print(x)\n",
    "        else:\n",
    "            deque.push(x)\n",
    "            break\n",
    "\n",
    "    while not deque.is_empty():\n",
    "        print(deque.pop_left())"
   ]
  },
  {
   "cell_type": "code",
   "execution_count": 101,
   "id": "11e28d9f",
   "metadata": {},
   "outputs": [
    {
     "name": "stdout",
     "output_type": "stream",
     "text": [
      "[6, 1, -2, 5, -3, 8, -7, -10, -10, 3]\n",
      "-2\n",
      "-3\n",
      "-7\n",
      "-10\n",
      "-10\n",
      "6\n",
      "1\n",
      "5\n",
      "8\n",
      "3\n",
      "[5, 9, 8, 7, 9, 6, 3, 15, -50, -60, -57, 89, 30, -1]\n",
      "-50\n",
      "-60\n",
      "-57\n",
      "-1\n",
      "5\n",
      "9\n",
      "8\n",
      "7\n",
      "9\n",
      "6\n",
      "3\n",
      "15\n",
      "89\n",
      "30\n"
     ]
    }
   ],
   "source": [
    "numbers = [random.randint(-10, 10) for i in range(10)]#для тестов(!!!)\n",
    "print(numbers)#\n",
    "\n",
    "task07(numbers)\n",
    "numbers = file_to_int_array('file_array_int.txt')\n",
    "print(numbers)\n",
    "task07(numbers)"
   ]
  },
  {
   "cell_type": "markdown",
   "id": "b9228191",
   "metadata": {},
   "source": [
    "### Задание №8\n",
    "Дан текстовый файл. Используя стек, сформировать новый текстовый файл, содержащий строки исходного файла, записанные в обратном порядке: первая строка становится последней, вторая – предпоследней и т.д."
   ]
  },
  {
   "cell_type": "code",
   "execution_count": 102,
   "id": "981fbdfe",
   "metadata": {},
   "outputs": [],
   "source": [
    "def task08(books):\n",
    "    stack = Stack()\n",
    "    for book in books:\n",
    "        book = book.strip()\n",
    "        print(book)\n",
    "        stack.push(book)\n",
    "    print()\n",
    "    while not stack.is_empty():\n",
    "        print(stack.pop())"
   ]
  },
  {
   "cell_type": "code",
   "execution_count": 103,
   "id": "57700d11",
   "metadata": {},
   "outputs": [
    {
     "name": "stdout",
     "output_type": "stream",
     "text": [
      "Mortal Kombat\n",
      "Watch Dogs\n",
      "Sherlock Holmes\n",
      "Bloodborne\n",
      "Elden Ring\n",
      "Dark Souls\n",
      "Batman\n",
      "Counter-Strike\n",
      "Witcher\n",
      "Animal Crossing\n",
      "The Legend of Zelda\n",
      "Bayonetta\n",
      "\n",
      "Bayonetta\n",
      "The Legend of Zelda\n",
      "Animal Crossing\n",
      "Witcher\n",
      "Counter-Strike\n",
      "Batman\n",
      "Dark Souls\n",
      "Elden Ring\n",
      "Bloodborne\n",
      "Sherlock Holmes\n",
      "Watch Dogs\n",
      "Mortal Kombat\n"
     ]
    }
   ],
   "source": [
    "task08(file_to_str_array('file_array_str.txt'))"
   ]
  },
  {
   "cell_type": "markdown",
   "id": "rental-jerusalem",
   "metadata": {},
   "source": [
    "### Вывод\n"
   ]
  },
  {
   "cell_type": "markdown",
   "id": "0c2b8899",
   "metadata": {},
   "source": []
  }
 ],
 "metadata": {
  "interpreter": {
   "hash": "d112bc00c22738e02b415a6c0706112d29ef316d5e38ed8e2bb335390871b6af"
  },
  "kernelspec": {
   "display_name": "Python 3.10.4 64-bit",
   "language": "python",
   "name": "python3"
  },
  "language_info": {
   "codemirror_mode": {
    "name": "ipython",
    "version": 3
   },
   "file_extension": ".py",
   "mimetype": "text/x-python",
   "name": "python",
   "nbconvert_exporter": "python",
   "pygments_lexer": "ipython3",
   "version": "3.10.4"
  }
 },
 "nbformat": 4,
 "nbformat_minor": 5
}

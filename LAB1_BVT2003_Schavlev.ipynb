{
 "cells": [
  {
   "cell_type": "markdown",
   "metadata": {},
   "source": [
    "# Лабораторная работа 1\n",
    "## Выполнил студент группы БВТ2003 Щавлев К.В.\n",
    "## Задание 1 - вывести хелловорлд"
   ]
  },
  {
   "cell_type": "code",
   "execution_count": 2,
   "metadata": {},
   "outputs": [
    {
     "name": "stdout",
     "output_type": "stream",
     "text": [
      "Hello, World!\n"
     ]
    }
   ],
   "source": [
    "print(\"Hello, World!\")"
   ]
  },
  {
   "cell_type": "markdown",
   "metadata": {},
   "source": [
    "## Задание 2 - написать генератор случайных матриц(многомерных), который...."
   ]
  },
  {
   "cell_type": "code",
   "execution_count": 3,
   "metadata": {},
   "outputs": [],
   "source": [
    "from random import randint\n",
    "import math\n",
    "import time\n",
    "m = 50\n",
    "n = 50\n",
    "min_limit = -250\n",
    "variant = 24\n",
    "max_limit = 1000 + variant\n",
    "mtx = [ [0]*m for i in range(n)]\n",
    "for i in range (n):\n",
    "    for j in range (m):\n",
    "        mtx[i][j]=randint(min_limit,max_limit)\n",
    "                \n",
    "#print(mtx)"
   ]
  },
  {
   "cell_type": "markdown",
   "metadata": {},
   "source": [
    "## 3 задание: отсортировать матрицы разнами способами"
   ]
  },
  {
   "cell_type": "code",
   "execution_count": 4,
   "metadata": {},
   "outputs": [],
   "source": [
    "def selection_sort(nums):#выбором\n",
    "    for i in range(len(nums)):\n",
    "        min_id = i\n",
    "        for j in range(i + 1, len(nums)):\n",
    "            if nums[j] < nums[min_id]:\n",
    "                min_id = j\n",
    "        nums[i], nums[min_id] = nums[min_id], nums[i]\n"
   ]
  },
  {
   "cell_type": "code",
   "execution_count": 5,
   "metadata": {},
   "outputs": [],
   "source": [
    "def insertion_sort(nums):#вставкой\n",
    "    for i in range(1, len(nums)):\n",
    "        item_to_insert = nums[i]\n",
    "        j = i - 1\n",
    "        while j >= 0 and nums[j] > item_to_insert:\n",
    "            nums[j + 1] = nums[j]\n",
    "            j -= 1\n",
    "        nums[j + 1] = item_to_insert\n"
   ]
  },
  {
   "cell_type": "code",
   "execution_count": 6,
   "metadata": {},
   "outputs": [],
   "source": [
    "def bubble_sort(nums):#обменом\n",
    "    swapped = True\n",
    "    while swapped:\n",
    "        swapped = False\n",
    "        for i in range(len(nums) - 1):\n",
    "            if nums[i] > nums[i + 1]:\n",
    "                nums[i], nums[i + 1] = nums[i + 1], nums[i]\n",
    "                swapped = True"
   ]
  },
  {
   "cell_type": "code",
   "execution_count": 7,
   "metadata": {},
   "outputs": [],
   "source": [
    "\n",
    "def shell_sort(nums):#Шелла\n",
    "    gap = len(nums)//2\n",
    "    while gap > 0:\n",
    "        for iIndex in range(gap, len(nums)):\n",
    "            temp = nums[iIndex]\n",
    "            jIndex = iIndex\n",
    "            while jIndex >= gap and nums[jIndex - gap] > temp:\n",
    "                nums[jIndex] = nums[jIndex - gap]\n",
    "                jIndex -= gap\n",
    "            nums[jIndex] = temp\n",
    "        gap //= 2\n",
    "     \n"
   ]
  },
  {
   "cell_type": "code",
   "execution_count": 8,
   "metadata": {},
   "outputs": [],
   "source": [
    "#турнирная\n",
    "def build(A, B, x, l, r):\n",
    "    if l == r:\n",
    "        B[x] = (A[l], x)\n",
    "    else:\n",
    "        mid = (l + r) // 2\n",
    "        build(A, B, 2 * x, l, mid)\n",
    "        build(A, B, (2 * x) + 1, mid + 1, r)\n",
    "        if B[(2 * x) + 1][0] < B[2 * x][0]:\n",
    "            B[x] = B[(2 * x) + 1]\n",
    "        else:\n",
    "            B[x] = B[2 * x]\n",
    "\n",
    "def pop(B):\n",
    "    result = B[1][0]\n",
    "    index = B[1][1]\n",
    "    B[index] = None\n",
    "    while index > 1:\n",
    "        index = index // 2\n",
    "        if B[index * 2] is None:\n",
    "            minimum = B[(index * 2) + 1]\n",
    "        elif B[(index * 2) + 1] is None:\n",
    "            minimum = B[index * 2]\n",
    "        else:\n",
    "            minimum = min(B[index * 2], B[(index * 2) + 1])\n",
    "        if minimum == B[index]:\n",
    "            break\n",
    "        B[index] = minimum\n",
    "    return result\n",
    "\n",
    "def tournament_sort(stroka: list[int]):  # турнирная сортировка\n",
    "    n = len(stroka)\n",
    "    temp = [None] * (2 ** (math.ceil(math.log2(n)) + 1))\n",
    "    build(stroka, temp, 1, 0, n - 1)\n",
    "    sorted_array = [pop(temp) for _ in range(n)]\n",
    "    return sorted_array\n"
   ]
  },
  {
   "cell_type": "code",
   "execution_count": 9,
   "metadata": {},
   "outputs": [],
   "source": [
    "def partition(nums, low, high):  \n",
    "    pivot = nums[(low + high) // 2]\n",
    "    i = low - 1\n",
    "    j = high + 1\n",
    "    while True:\n",
    "        i += 1\n",
    "        while nums[i] < pivot:\n",
    "            i += 1\n",
    "        j -= 1\n",
    "        while nums[j] > pivot:\n",
    "            j -= 1\n",
    "        if i >= j:\n",
    "            return j\n",
    "        nums[i], nums[j] = nums[j], nums[i]\n",
    "\n",
    "\n",
    "def quick_sort(nums):  \n",
    "    def _quick_sort(items, low, high):\n",
    "        if low < high:\n",
    "            split_index = partition(items, low, high)\n",
    "            _quick_sort(items, low, split_index)\n",
    "            _quick_sort(items, split_index + 1, high)\n",
    "    _quick_sort(nums, 0, len(nums) - 1)\n"
   ]
  },
  {
   "cell_type": "code",
   "execution_count": 10,
   "metadata": {},
   "outputs": [],
   "source": [
    "def heapify(nums, heap_size, root_index):  \n",
    "    largest = root_index\n",
    "    left_child = (2 * root_index) + 1\n",
    "    right_child = (2 * root_index) + 2\n",
    "    if left_child < heap_size and nums[left_child] > nums[largest]:\n",
    "        largest = left_child\n",
    "    if right_child < heap_size and nums[right_child] > nums[largest]:\n",
    "        largest = right_child\n",
    "    if largest != root_index:\n",
    "        nums[root_index], nums[largest] = nums[largest], nums[root_index]\n",
    "        heapify(nums, heap_size, largest)\n",
    "\n",
    "\n",
    "def heap_sort(nums):\n",
    "    n = len(nums)\n",
    "    for i in range(n, -1, -1):\n",
    "        heapify(nums, n, i)\n",
    "    for i in range(n - 1, 0, -1):\n",
    "        nums[i], nums[0] = nums[0], nums[i]\n",
    "        heapify(nums, i, 0)\n",
    "     "
   ]
  },
  {
   "cell_type": "code",
   "execution_count": 11,
   "metadata": {},
   "outputs": [],
   "source": [
    "all_sorts = dict(\n",
    "    bubble_sort = bubble_sort,\n",
    "    heap_sort = heap_sort,\n",
    "    shell_sort = shell_sort,\n",
    "    tournament_sort = tournament_sort,\n",
    "    insertion_sort = insertion_sort,\n",
    "    selection_sort = selection_sort,\n",
    "    quick_sort = quick_sort,\n",
    "    standart_sort = sorted,\n",
    ")"
   ]
  },
  {
   "cell_type": "code",
   "execution_count": 12,
   "metadata": {},
   "outputs": [
    {
     "name": "stdout",
     "output_type": "stream",
     "text": [
      "bubble_sort is 21942900\n",
      "heap_sort is 14830400\n",
      "shell_sort is 2970800\n",
      "tournament_sort is 15982400\n",
      "insertion_sort is 277400\n",
      "selection_sort is 9007100\n",
      "quick_sort is 2031600\n",
      "standart_sort is 26500\n",
      "standart_sort быстрее чем другие!\n"
     ]
    }
   ],
   "source": [
    "winner = ''\n",
    "min_time = -1\n",
    "for name,callable in all_sorts.items():\n",
    "    standart_mtx = mtx.copy()\n",
    "    ITS_TIME_TO_START = time.perf_counter_ns()\n",
    "    for row in standart_mtx:\n",
    "        callable(row)\n",
    "    ITS_TIME_TO_STOP = time.perf_counter_ns()\n",
    "    timeout = ITS_TIME_TO_STOP-ITS_TIME_TO_START\n",
    "    if(min_time == -1 or min_time > timeout):\n",
    "        min_time = timeout\n",
    "        winner = name\n",
    "    print(f\"{name} is {timeout}\")\n",
    "\n",
    "print(f\"{winner} быстрее чем другие!\")"
   ]
  }
 ],
 "metadata": {
  "interpreter": {
   "hash": "91de9dface688b0dd20a3085c2ed00be818e7f2a4078c14d79ed11bf27ab375d"
  },
  "kernelspec": {
   "display_name": "Python 3.10.2 64-bit",
   "language": "python",
   "name": "python3"
  },
  "language_info": {
   "codemirror_mode": {
    "name": "ipython",
    "version": 3
   },
   "file_extension": ".py",
   "mimetype": "text/x-python",
   "name": "python",
   "nbconvert_exporter": "python",
   "pygments_lexer": "ipython3",
   "version": "3.10.2"
  },
  "orig_nbformat": 4
 },
 "nbformat": 4,
 "nbformat_minor": 2
}
